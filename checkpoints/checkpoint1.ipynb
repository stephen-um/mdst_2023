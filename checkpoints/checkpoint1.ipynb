{
 "cells": [
  {
   "cell_type": "markdown",
   "metadata": {},
   "source": [
    "# Checkpoint 1"
   ]
  },
  {
   "cell_type": "markdown",
   "metadata": {},
   "source": [
    "Reminder: \n",
    "\n",
    "- You are being evaluated for compeletion and effort in this checkpoint. \n",
    "- Avoid manual labor / hard coding as much as possible, everything we've taught you so far are meant to simplify and automate your process."
   ]
  },
  {
   "cell_type": "markdown",
   "metadata": {},
   "source": [
    "We will be working with the same `states_edu.csv` that you should already be familiar with from the tutorial.\n",
    "\n",
    "We investigated Grade 8 reading score in the tutorial. For this checkpoint, you are asked to investigate another test. Here's an overview:\n",
    "\n",
    "* Choose a specific response variable to focus on\n",
    ">Grade 4 Math, Grade 4 Reading, Grade 8 Math\n",
    "* Pick or create features to use\n",
    ">Will all the features be useful in predicting test score? Are some more important than others? Should you standardize, bin, or scale the data?\n",
    "* Explore the data as it relates to that test\n",
    ">Create at least 2 visualizations (graphs), each with a caption describing the graph and what it tells us about the data\n",
    "* Create training and testing data\n",
    ">Do you want to train on all the data? Only data from the last 10 years? Only Michigan data?\n",
    "* Train a ML model to predict outcome \n",
    ">Define what you want to predict, and pick a model in sklearn to use (see sklearn <a href=\"https://scikit-learn.org/stable/modules/linear_model.html\">regressors</a>.\n",
    "* Summarize your findings\n",
    ">Write a 1 paragraph summary of what you did and make a recommendation about if and how student performance can be predicted\n",
    "\n",
    "Include comments throughout your code! Every cleanup and preprocessing task should be documented.\n",
    "\n",
    "Of course, if you're finding this assignment interesting (and we really hope you do!), you are welcome to do more than the requirements! For example, you may want to see if expenditure affects 4th graders more than 8th graders. Maybe you want to look into the extended version of this dataset and see how factors like sex and race are involved. You can include all your work in this notebook when you turn it in -- just always make sure you explain what you did and interpret your results. Good luck!"
   ]
  },
  {
   "cell_type": "markdown",
   "metadata": {},
   "source": [
    "<h2> Data Cleanup </h2>\n",
    "\n",
    "Import `numpy`, `pandas`, and `matplotlib`.\n",
    "\n",
    "(Feel free to import other libraries!)"
   ]
  },
  {
   "cell_type": "code",
   "execution_count": 4,
   "metadata": {},
   "outputs": [],
   "source": [
    "import numpy as np\n",
    "import pandas as pd\n",
    "import matplotlib.pyplot as plt"
   ]
  },
  {
   "cell_type": "markdown",
   "metadata": {},
   "source": [
    "Load in the \"states_edu.csv\" dataset and take a look at the head of the data"
   ]
  },
  {
   "cell_type": "code",
   "execution_count": 5,
   "metadata": {},
   "outputs": [
    {
     "data": {
      "text/html": [
       "<div>\n",
       "<style scoped>\n",
       "    .dataframe tbody tr th:only-of-type {\n",
       "        vertical-align: middle;\n",
       "    }\n",
       "\n",
       "    .dataframe tbody tr th {\n",
       "        vertical-align: top;\n",
       "    }\n",
       "\n",
       "    .dataframe thead th {\n",
       "        text-align: right;\n",
       "    }\n",
       "</style>\n",
       "<table border=\"1\" class=\"dataframe\">\n",
       "  <thead>\n",
       "    <tr style=\"text-align: right;\">\n",
       "      <th></th>\n",
       "      <th>PRIMARY_KEY</th>\n",
       "      <th>STATE</th>\n",
       "      <th>YEAR</th>\n",
       "      <th>ENROLL</th>\n",
       "      <th>TOTAL_REVENUE</th>\n",
       "      <th>FEDERAL_REVENUE</th>\n",
       "      <th>STATE_REVENUE</th>\n",
       "      <th>LOCAL_REVENUE</th>\n",
       "      <th>TOTAL_EXPENDITURE</th>\n",
       "      <th>INSTRUCTION_EXPENDITURE</th>\n",
       "      <th>...</th>\n",
       "      <th>GRADES_4_G</th>\n",
       "      <th>GRADES_8_G</th>\n",
       "      <th>GRADES_12_G</th>\n",
       "      <th>GRADES_1_8_G</th>\n",
       "      <th>GRADES_9_12_G</th>\n",
       "      <th>GRADES_ALL_G</th>\n",
       "      <th>AVG_MATH_4_SCORE</th>\n",
       "      <th>AVG_MATH_8_SCORE</th>\n",
       "      <th>AVG_READING_4_SCORE</th>\n",
       "      <th>AVG_READING_8_SCORE</th>\n",
       "    </tr>\n",
       "  </thead>\n",
       "  <tbody>\n",
       "    <tr>\n",
       "      <th>0</th>\n",
       "      <td>1992_ALABAMA</td>\n",
       "      <td>ALABAMA</td>\n",
       "      <td>1992</td>\n",
       "      <td>NaN</td>\n",
       "      <td>2678885.0</td>\n",
       "      <td>304177.0</td>\n",
       "      <td>1659028.0</td>\n",
       "      <td>715680.0</td>\n",
       "      <td>2653798.0</td>\n",
       "      <td>1481703.0</td>\n",
       "      <td>...</td>\n",
       "      <td>57948.0</td>\n",
       "      <td>58025.0</td>\n",
       "      <td>41167.0</td>\n",
       "      <td>NaN</td>\n",
       "      <td>NaN</td>\n",
       "      <td>731634.0</td>\n",
       "      <td>208.0</td>\n",
       "      <td>252.0</td>\n",
       "      <td>207.0</td>\n",
       "      <td>NaN</td>\n",
       "    </tr>\n",
       "    <tr>\n",
       "      <th>1</th>\n",
       "      <td>1992_ALASKA</td>\n",
       "      <td>ALASKA</td>\n",
       "      <td>1992</td>\n",
       "      <td>NaN</td>\n",
       "      <td>1049591.0</td>\n",
       "      <td>106780.0</td>\n",
       "      <td>720711.0</td>\n",
       "      <td>222100.0</td>\n",
       "      <td>972488.0</td>\n",
       "      <td>498362.0</td>\n",
       "      <td>...</td>\n",
       "      <td>9748.0</td>\n",
       "      <td>8789.0</td>\n",
       "      <td>6714.0</td>\n",
       "      <td>NaN</td>\n",
       "      <td>NaN</td>\n",
       "      <td>122487.0</td>\n",
       "      <td>NaN</td>\n",
       "      <td>NaN</td>\n",
       "      <td>NaN</td>\n",
       "      <td>NaN</td>\n",
       "    </tr>\n",
       "    <tr>\n",
       "      <th>2</th>\n",
       "      <td>1992_ARIZONA</td>\n",
       "      <td>ARIZONA</td>\n",
       "      <td>1992</td>\n",
       "      <td>NaN</td>\n",
       "      <td>3258079.0</td>\n",
       "      <td>297888.0</td>\n",
       "      <td>1369815.0</td>\n",
       "      <td>1590376.0</td>\n",
       "      <td>3401580.0</td>\n",
       "      <td>1435908.0</td>\n",
       "      <td>...</td>\n",
       "      <td>55433.0</td>\n",
       "      <td>49081.0</td>\n",
       "      <td>37410.0</td>\n",
       "      <td>NaN</td>\n",
       "      <td>NaN</td>\n",
       "      <td>673477.0</td>\n",
       "      <td>215.0</td>\n",
       "      <td>265.0</td>\n",
       "      <td>209.0</td>\n",
       "      <td>NaN</td>\n",
       "    </tr>\n",
       "    <tr>\n",
       "      <th>3</th>\n",
       "      <td>1992_ARKANSAS</td>\n",
       "      <td>ARKANSAS</td>\n",
       "      <td>1992</td>\n",
       "      <td>NaN</td>\n",
       "      <td>1711959.0</td>\n",
       "      <td>178571.0</td>\n",
       "      <td>958785.0</td>\n",
       "      <td>574603.0</td>\n",
       "      <td>1743022.0</td>\n",
       "      <td>964323.0</td>\n",
       "      <td>...</td>\n",
       "      <td>34632.0</td>\n",
       "      <td>36011.0</td>\n",
       "      <td>27651.0</td>\n",
       "      <td>NaN</td>\n",
       "      <td>NaN</td>\n",
       "      <td>441490.0</td>\n",
       "      <td>210.0</td>\n",
       "      <td>256.0</td>\n",
       "      <td>211.0</td>\n",
       "      <td>NaN</td>\n",
       "    </tr>\n",
       "    <tr>\n",
       "      <th>4</th>\n",
       "      <td>1992_CALIFORNIA</td>\n",
       "      <td>CALIFORNIA</td>\n",
       "      <td>1992</td>\n",
       "      <td>NaN</td>\n",
       "      <td>26260025.0</td>\n",
       "      <td>2072470.0</td>\n",
       "      <td>16546514.0</td>\n",
       "      <td>7641041.0</td>\n",
       "      <td>27138832.0</td>\n",
       "      <td>14358922.0</td>\n",
       "      <td>...</td>\n",
       "      <td>418418.0</td>\n",
       "      <td>363296.0</td>\n",
       "      <td>270675.0</td>\n",
       "      <td>NaN</td>\n",
       "      <td>NaN</td>\n",
       "      <td>5254844.0</td>\n",
       "      <td>208.0</td>\n",
       "      <td>261.0</td>\n",
       "      <td>202.0</td>\n",
       "      <td>NaN</td>\n",
       "    </tr>\n",
       "  </tbody>\n",
       "</table>\n",
       "<p>5 rows × 25 columns</p>\n",
       "</div>"
      ],
      "text/plain": [
       "       PRIMARY_KEY       STATE  YEAR  ENROLL  TOTAL_REVENUE  FEDERAL_REVENUE  \\\n",
       "0     1992_ALABAMA     ALABAMA  1992     NaN      2678885.0         304177.0   \n",
       "1      1992_ALASKA      ALASKA  1992     NaN      1049591.0         106780.0   \n",
       "2     1992_ARIZONA     ARIZONA  1992     NaN      3258079.0         297888.0   \n",
       "3    1992_ARKANSAS    ARKANSAS  1992     NaN      1711959.0         178571.0   \n",
       "4  1992_CALIFORNIA  CALIFORNIA  1992     NaN     26260025.0        2072470.0   \n",
       "\n",
       "   STATE_REVENUE  LOCAL_REVENUE  TOTAL_EXPENDITURE  INSTRUCTION_EXPENDITURE  \\\n",
       "0      1659028.0       715680.0          2653798.0                1481703.0   \n",
       "1       720711.0       222100.0           972488.0                 498362.0   \n",
       "2      1369815.0      1590376.0          3401580.0                1435908.0   \n",
       "3       958785.0       574603.0          1743022.0                 964323.0   \n",
       "4     16546514.0      7641041.0         27138832.0               14358922.0   \n",
       "\n",
       "   ...  GRADES_4_G  GRADES_8_G  GRADES_12_G  GRADES_1_8_G  GRADES_9_12_G  \\\n",
       "0  ...     57948.0     58025.0      41167.0           NaN            NaN   \n",
       "1  ...      9748.0      8789.0       6714.0           NaN            NaN   \n",
       "2  ...     55433.0     49081.0      37410.0           NaN            NaN   \n",
       "3  ...     34632.0     36011.0      27651.0           NaN            NaN   \n",
       "4  ...    418418.0    363296.0     270675.0           NaN            NaN   \n",
       "\n",
       "   GRADES_ALL_G  AVG_MATH_4_SCORE  AVG_MATH_8_SCORE  AVG_READING_4_SCORE  \\\n",
       "0      731634.0             208.0             252.0                207.0   \n",
       "1      122487.0               NaN               NaN                  NaN   \n",
       "2      673477.0             215.0             265.0                209.0   \n",
       "3      441490.0             210.0             256.0                211.0   \n",
       "4     5254844.0             208.0             261.0                202.0   \n",
       "\n",
       "   AVG_READING_8_SCORE  \n",
       "0                  NaN  \n",
       "1                  NaN  \n",
       "2                  NaN  \n",
       "3                  NaN  \n",
       "4                  NaN  \n",
       "\n",
       "[5 rows x 25 columns]"
      ]
     },
     "execution_count": 5,
     "metadata": {},
     "output_type": "execute_result"
    }
   ],
   "source": [
    "df = pd.read_csv('../data/states_edu.csv')\n",
    "df.head(n=5)"
   ]
  },
  {
   "cell_type": "markdown",
   "metadata": {},
   "source": [
    "You should always familiarize yourself with what each column in the dataframe represents. Read about the states_edu dataset here: https://www.kaggle.com/noriuk/us-education-datasets-unification-project"
   ]
  },
  {
   "cell_type": "markdown",
   "metadata": {},
   "source": [
    "Use this space to rename columns, deal with missing data, etc. _(optional)_"
   ]
  },
  {
   "cell_type": "code",
   "execution_count": 7,
   "metadata": {},
   "outputs": [
    {
     "data": {
      "text/plain": [
       "Index(['PRIMARY_KEY', 'STATE', 'YEAR', 'ENROLL', 'TOTAL_REVENUE',\n",
       "       'FEDERAL_REVENUE', 'STATE_REVENUE', 'LOCAL_REVENUE',\n",
       "       'TOTAL_EXPENDITURE', 'INSTRUCTION_EXPENDITURE',\n",
       "       'SUPPORT_SERVICES_EXPENDITURE', 'OTHER_EXPENDITURE',\n",
       "       'CAPITAL_OUTLAY_EXPENDITURE', 'GRADES_PK_G', 'GRADES_KG_G',\n",
       "       'GRADES_4_G', 'GRADES_8_G', 'GRADES_12_G', 'GRADES_1_8_G',\n",
       "       'GRADES_9_12_G', 'GRADES_ALL_G', 'AVG_MATH_4_SCORE', 'AVG_MATH_8_SCORE',\n",
       "       'AVG_READING_4_SCORE', 'AVG_READING_8_SCORE'],\n",
       "      dtype='object')"
      ]
     },
     "execution_count": 7,
     "metadata": {},
     "output_type": "execute_result"
    }
   ],
   "source": [
    "df.columns"
   ]
  },
  {
   "cell_type": "code",
   "execution_count": 10,
   "metadata": {},
   "outputs": [],
   "source": [
    "df.rename({\n",
    "    'GRADES_PK_G':'ENROLL_PREK',\n",
    "    'GRADES_KG_G':'ENROLL_KINDER',\n",
    "    'GRADES_4_G':'ENROLL_4',\n",
    "    'GRADES_8_G':'ENROLL_8',\n",
    "    'GRADES_12_G':'ENROLL_12',\n",
    "    'GRADES_1_8_G':'ENROLL_PRIMARY',\n",
    "    'GRADES_9_12_G':'ENROLL_HS',\n",
    "    'GRADES_ALL_G':'ENROLL_ALL',\n",
    "    'ENROLL':'ENROLL_ALL_EST'\n",
    "    },\n",
    "    axis=1,inplace=True)"
   ]
  },
  {
   "cell_type": "code",
   "execution_count": 11,
   "metadata": {},
   "outputs": [
    {
     "data": {
      "text/plain": [
       "Index(['PRIMARY_KEY', 'STATE', 'YEAR', 'ENROLL_ALL_EST', 'TOTAL_REVENUE',\n",
       "       'FEDERAL_REVENUE', 'STATE_REVENUE', 'LOCAL_REVENUE',\n",
       "       'TOTAL_EXPENDITURE', 'INSTRUCTION_EXPENDITURE',\n",
       "       'SUPPORT_SERVICES_EXPENDITURE', 'OTHER_EXPENDITURE',\n",
       "       'CAPITAL_OUTLAY_EXPENDITURE', 'ENROLL_PREK', 'ENROLL_KINDER',\n",
       "       'ENROLL_4', 'ENROLL_8', 'ENROLL_12', 'ENROLL_PRIMARY', 'ENROLL_HS',\n",
       "       'ENROLL_ALL', 'AVG_MATH_4_SCORE', 'AVG_MATH_8_SCORE',\n",
       "       'AVG_READING_4_SCORE', 'AVG_READING_8_SCORE'],\n",
       "      dtype='object')"
      ]
     },
     "execution_count": 11,
     "metadata": {},
     "output_type": "execute_result"
    }
   ],
   "source": [
    "df.columns"
   ]
  },
  {
   "cell_type": "markdown",
   "metadata": {},
   "source": [
    "<h2>Exploratory Data Analysis (EDA) </h2>"
   ]
  },
  {
   "cell_type": "markdown",
   "metadata": {},
   "source": [
    "Chosen Outcome Variable for Test: *Grade 8 Math*"
   ]
  },
  {
   "cell_type": "code",
   "execution_count": 15,
   "metadata": {},
   "outputs": [
    {
     "data": {
      "text/plain": [
       "(1715, 25)"
      ]
     },
     "execution_count": 15,
     "metadata": {},
     "output_type": "execute_result"
    }
   ],
   "source": [
    "# total records : 1715\n",
    "df.shape"
   ]
  },
  {
   "cell_type": "code",
   "execution_count": 18,
   "metadata": {},
   "outputs": [
    {
     "data": {
      "text/plain": [
       "1113"
      ]
     },
     "execution_count": 18,
     "metadata": {},
     "output_type": "execute_result"
    }
   ],
   "source": [
    "# number of records missing 8TH GRADE AVG MATH SCORE: 1113\n",
    "# 65% records are missing key variable\n",
    "df.AVG_MATH_8_SCORE.isnull().sum()"
   ]
  },
  {
   "cell_type": "code",
   "execution_count": 14,
   "metadata": {},
   "outputs": [
    {
     "data": {
      "text/plain": [
       "array(['ALABAMA', 'ALASKA', 'ARIZONA', 'ARKANSAS', 'CALIFORNIA',\n",
       "       'COLORADO', 'CONNECTICUT', 'DELAWARE', 'DISTRICT_OF_COLUMBIA',\n",
       "       'FLORIDA', 'GEORGIA', 'HAWAII', 'IDAHO', 'ILLINOIS', 'INDIANA',\n",
       "       'IOWA', 'KANSAS', 'KENTUCKY', 'LOUISIANA', 'MAINE', 'MARYLAND',\n",
       "       'MASSACHUSETTS', 'MICHIGAN', 'MINNESOTA', 'MISSISSIPPI',\n",
       "       'MISSOURI', 'MONTANA', 'NEBRASKA', 'NEVADA', 'NEW_HAMPSHIRE',\n",
       "       'NEW_JERSEY', 'NEW_MEXICO', 'NEW_YORK', 'NORTH_CAROLINA',\n",
       "       'NORTH_DAKOTA', 'OHIO', 'OKLAHOMA', 'OREGON', 'PENNSYLVANIA',\n",
       "       'RHODE_ISLAND', 'SOUTH_CAROLINA', 'SOUTH_DAKOTA', 'TENNESSEE',\n",
       "       'TEXAS', 'UTAH', 'VERMONT', 'VIRGINIA', 'WASHINGTON',\n",
       "       'WEST_VIRGINIA', 'WISCONSIN', 'WYOMING', 'DODEA', 'NATIONAL'],\n",
       "      dtype=object)"
      ]
     },
     "execution_count": 14,
     "metadata": {},
     "output_type": "execute_result"
    }
   ],
   "source": [
    "# get a list of unique states in df\n",
    "#random values like 'DODEA' and 'NATIONAL'.. if I had more time I'd look into what these values mean from kaggle\n",
    "#but i'll just drop them for this analysis\n",
    "df.STATE.unique()"
   ]
  },
  {
   "cell_type": "code",
   "execution_count": 36,
   "metadata": {},
   "outputs": [],
   "source": [
    "# dropping records with STATE is either 'DODEA' or 'NATIONAL'\n",
    "df = df[~df.STATE.isin(['DODEA','NATIONAL'])]"
   ]
  },
  {
   "cell_type": "code",
   "execution_count": 37,
   "metadata": {},
   "outputs": [
    {
     "data": {
      "text/plain": [
       "STATE\n",
       "ALABAMA                 21\n",
       "ALASKA                  24\n",
       "ARIZONA                 21\n",
       "ARKANSAS                21\n",
       "CALIFORNIA              21\n",
       "COLORADO                22\n",
       "CONNECTICUT             21\n",
       "DELAWARE                22\n",
       "DISTRICT_OF_COLUMBIA    21\n",
       "FLORIDA                 22\n",
       "GEORGIA                 21\n",
       "HAWAII                  21\n",
       "IDAHO                   21\n",
       "ILLINOIS                22\n",
       "INDIANA                 21\n",
       "IOWA                    22\n",
       "KANSAS                  23\n",
       "KENTUCKY                21\n",
       "LOUISIANA               21\n",
       "MAINE                   22\n",
       "MARYLAND                21\n",
       "MASSACHUSETTS           22\n",
       "MICHIGAN                21\n",
       "MINNESOTA               21\n",
       "MISSISSIPPI             22\n",
       "MISSOURI                22\n",
       "MONTANA                 22\n",
       "NEBRASKA                21\n",
       "NEVADA                  23\n",
       "NEW_HAMPSHIRE           22\n",
       "NEW_JERSEY              22\n",
       "NEW_MEXICO              21\n",
       "NEW_YORK                21\n",
       "NORTH_CAROLINA          21\n",
       "NORTH_DAKOTA            21\n",
       "OHIO                    21\n",
       "OKLAHOMA                21\n",
       "OREGON                  22\n",
       "PENNSYLVANIA            22\n",
       "RHODE_ISLAND            21\n",
       "SOUTH_CAROLINA          22\n",
       "SOUTH_DAKOTA            24\n",
       "TENNESSEE               22\n",
       "TEXAS                   21\n",
       "UTAH                    22\n",
       "VERMONT                 23\n",
       "VIRGINIA                21\n",
       "WASHINGTON              24\n",
       "WEST_VIRGINIA           21\n",
       "WISCONSIN               22\n",
       "WYOMING                 21\n",
       "dtype: int64"
      ]
     },
     "execution_count": 37,
     "metadata": {},
     "output_type": "execute_result"
    }
   ],
   "source": [
    "# looking at records missing 8TH GRADE AVG MATH SCORE to see if there's a particular state missing data\n",
    "# looks like all states are missing similar number of records\n",
    "df[df.AVG_MATH_8_SCORE.isnull()][['STATE','AVG_MATH_8_SCORE']].groupby('STATE').size()"
   ]
  },
  {
   "cell_type": "code",
   "execution_count": 50,
   "metadata": {},
   "outputs": [
    {
     "data": {
      "text/plain": [
       "(51,)"
      ]
     },
     "execution_count": 50,
     "metadata": {},
     "output_type": "execute_result"
    }
   ],
   "source": [
    "# 51 unique states in dataset\n",
    "df.STATE.unique().shape"
   ]
  },
  {
   "cell_type": "code",
   "execution_count": 51,
   "metadata": {},
   "outputs": [
    {
     "data": {
      "text/plain": [
       "YEAR\n",
       "1986    51\n",
       "1987    51\n",
       "1988    51\n",
       "1989    51\n",
       "1990    13\n",
       "1991    51\n",
       "1992     9\n",
       "1993    51\n",
       "1994    51\n",
       "1995    51\n",
       "1996    51\n",
       "1997    51\n",
       "1998    51\n",
       "1999    51\n",
       "2000    11\n",
       "2001    51\n",
       "2002    51\n",
       "2004    51\n",
       "2006    51\n",
       "2008    51\n",
       "2010    51\n",
       "2012    51\n",
       "2014    51\n",
       "2016    51\n",
       "dtype: int64"
      ]
     },
     "execution_count": 51,
     "metadata": {},
     "output_type": "execute_result"
    }
   ],
   "source": [
    "# look at year\n",
    "# ok so seems like there are a lot of years with missing data for all states in dataset\n",
    "# year 1992 is missing 9 records\n",
    "df[df.AVG_MATH_8_SCORE.isnull()][['YEAR','AVG_MATH_8_SCORE']].groupby('YEAR').size()"
   ]
  },
  {
   "cell_type": "code",
   "execution_count": 45,
   "metadata": {},
   "outputs": [
    {
     "data": {
      "text/plain": [
       "array([1992, 1993, 1994, 1995, 1996, 1997, 1998, 1999, 2000, 2001, 2002,\n",
       "       2004, 2006, 2008, 2010, 2012, 2014, 2016, 1986, 1987, 1988, 1989,\n",
       "       1991, 1990])"
      ]
     },
     "execution_count": 45,
     "metadata": {},
     "output_type": "execute_result"
    }
   ],
   "source": [
    "#24 years missing data on AVG MATH 8 SCORE\n",
    "df[df.AVG_MATH_8_SCORE.isnull()]['YEAR'].unique()"
   ]
  },
  {
   "cell_type": "markdown",
   "metadata": {},
   "source": [
    "How many years of data are logged in our dataset? \n",
    "\n",
    "**There are 33 years in dataset but only 9 years with complete data for the variable we're interested in for all states**"
   ]
  },
  {
   "cell_type": "code",
   "execution_count": 53,
   "metadata": {},
   "outputs": [
    {
     "data": {
      "text/plain": [
       "Series([], dtype: int64)"
      ]
     },
     "execution_count": 53,
     "metadata": {},
     "output_type": "execute_result"
    }
   ],
   "source": [
    "# removing all years with no data for AVG MATH 8 SCORE\n",
    "df = df[~df.YEAR.isin(df[df.AVG_MATH_8_SCORE.isnull()]['YEAR'].unique())]\n",
    "df[df.AVG_MATH_8_SCORE.isnull()][['YEAR','AVG_MATH_8_SCORE']].groupby('YEAR').size()"
   ]
  },
  {
   "cell_type": "markdown",
   "metadata": {},
   "source": [
    "Let's compare Michigan to Ohio. Which state has the higher average outcome score across all years?\n",
    "\n",
    "**Ohio has higher average 8th grade math score**"
   ]
  },
  {
   "cell_type": "code",
   "execution_count": 57,
   "metadata": {},
   "outputs": [
    {
     "data": {
      "text/plain": [
       "False"
      ]
     },
     "execution_count": 57,
     "metadata": {},
     "output_type": "execute_result"
    }
   ],
   "source": [
    "mi_mean_math_score = np.mean(df[df.STATE == 'MICHIGAN']['AVG_MATH_8_SCORE'])\n",
    "oh_mean_math_score = np.mean(df[df.STATE == 'OHIO']['AVG_MATH_8_SCORE'])\n",
    "\n",
    "mi_mean_math_score > oh_mean_math_score"
   ]
  },
  {
   "cell_type": "markdown",
   "metadata": {},
   "source": [
    "Find the average for your outcome score across all states in 2019"
   ]
  },
  {
   "cell_type": "code",
   "execution_count": 63,
   "metadata": {},
   "outputs": [
    {
     "data": {
      "text/plain": [
       "281.03921568627453"
      ]
     },
     "execution_count": 63,
     "metadata": {},
     "output_type": "execute_result"
    }
   ],
   "source": [
    "np.mean(df[df.YEAR==2019].AVG_MATH_8_SCORE)"
   ]
  },
  {
   "cell_type": "markdown",
   "metadata": {},
   "source": [
    "Find the maximum outcome score for every state. \n",
    "\n",
    "Refer to the `Grouping and Aggregating` section in Tutorial 0 if you are stuck."
   ]
  },
  {
   "cell_type": "code",
   "execution_count": 67,
   "metadata": {},
   "outputs": [
    {
     "data": {
      "text/html": [
       "<div>\n",
       "<style scoped>\n",
       "    .dataframe tbody tr th:only-of-type {\n",
       "        vertical-align: middle;\n",
       "    }\n",
       "\n",
       "    .dataframe tbody tr th {\n",
       "        vertical-align: top;\n",
       "    }\n",
       "\n",
       "    .dataframe thead th {\n",
       "        text-align: right;\n",
       "    }\n",
       "</style>\n",
       "<table border=\"1\" class=\"dataframe\">\n",
       "  <thead>\n",
       "    <tr style=\"text-align: right;\">\n",
       "      <th></th>\n",
       "      <th>STATE</th>\n",
       "      <th>AVG_MATH_8_SCORE</th>\n",
       "    </tr>\n",
       "  </thead>\n",
       "  <tbody>\n",
       "    <tr>\n",
       "      <th>0</th>\n",
       "      <td>ALABAMA</td>\n",
       "      <td>269.0</td>\n",
       "    </tr>\n",
       "    <tr>\n",
       "      <th>1</th>\n",
       "      <td>ALASKA</td>\n",
       "      <td>283.0</td>\n",
       "    </tr>\n",
       "    <tr>\n",
       "      <th>2</th>\n",
       "      <td>ARIZONA</td>\n",
       "      <td>283.0</td>\n",
       "    </tr>\n",
       "    <tr>\n",
       "      <th>3</th>\n",
       "      <td>ARKANSAS</td>\n",
       "      <td>279.0</td>\n",
       "    </tr>\n",
       "    <tr>\n",
       "      <th>4</th>\n",
       "      <td>CALIFORNIA</td>\n",
       "      <td>277.0</td>\n",
       "    </tr>\n",
       "    <tr>\n",
       "      <th>5</th>\n",
       "      <td>COLORADO</td>\n",
       "      <td>292.0</td>\n",
       "    </tr>\n",
       "    <tr>\n",
       "      <th>6</th>\n",
       "      <td>CONNECTICUT</td>\n",
       "      <td>289.0</td>\n",
       "    </tr>\n",
       "    <tr>\n",
       "      <th>7</th>\n",
       "      <td>DELAWARE</td>\n",
       "      <td>284.0</td>\n",
       "    </tr>\n",
       "    <tr>\n",
       "      <th>8</th>\n",
       "      <td>DISTRICT_OF_COLUMBIA</td>\n",
       "      <td>269.0</td>\n",
       "    </tr>\n",
       "    <tr>\n",
       "      <th>9</th>\n",
       "      <td>FLORIDA</td>\n",
       "      <td>281.0</td>\n",
       "    </tr>\n",
       "    <tr>\n",
       "      <th>10</th>\n",
       "      <td>GEORGIA</td>\n",
       "      <td>281.0</td>\n",
       "    </tr>\n",
       "    <tr>\n",
       "      <th>11</th>\n",
       "      <td>HAWAII</td>\n",
       "      <td>281.0</td>\n",
       "    </tr>\n",
       "    <tr>\n",
       "      <th>12</th>\n",
       "      <td>IDAHO</td>\n",
       "      <td>287.0</td>\n",
       "    </tr>\n",
       "    <tr>\n",
       "      <th>13</th>\n",
       "      <td>ILLINOIS</td>\n",
       "      <td>285.0</td>\n",
       "    </tr>\n",
       "    <tr>\n",
       "      <th>14</th>\n",
       "      <td>INDIANA</td>\n",
       "      <td>288.0</td>\n",
       "    </tr>\n",
       "    <tr>\n",
       "      <th>15</th>\n",
       "      <td>IOWA</td>\n",
       "      <td>286.0</td>\n",
       "    </tr>\n",
       "    <tr>\n",
       "      <th>16</th>\n",
       "      <td>KANSAS</td>\n",
       "      <td>290.0</td>\n",
       "    </tr>\n",
       "    <tr>\n",
       "      <th>17</th>\n",
       "      <td>KENTUCKY</td>\n",
       "      <td>282.0</td>\n",
       "    </tr>\n",
       "    <tr>\n",
       "      <th>18</th>\n",
       "      <td>LOUISIANA</td>\n",
       "      <td>273.0</td>\n",
       "    </tr>\n",
       "    <tr>\n",
       "      <th>19</th>\n",
       "      <td>MAINE</td>\n",
       "      <td>289.0</td>\n",
       "    </tr>\n",
       "    <tr>\n",
       "      <th>20</th>\n",
       "      <td>MARYLAND</td>\n",
       "      <td>288.0</td>\n",
       "    </tr>\n",
       "    <tr>\n",
       "      <th>21</th>\n",
       "      <td>MASSACHUSETTS</td>\n",
       "      <td>301.0</td>\n",
       "    </tr>\n",
       "    <tr>\n",
       "      <th>22</th>\n",
       "      <td>MICHIGAN</td>\n",
       "      <td>280.0</td>\n",
       "    </tr>\n",
       "    <tr>\n",
       "      <th>23</th>\n",
       "      <td>MINNESOTA</td>\n",
       "      <td>295.0</td>\n",
       "    </tr>\n",
       "    <tr>\n",
       "      <th>24</th>\n",
       "      <td>MISSISSIPPI</td>\n",
       "      <td>274.0</td>\n",
       "    </tr>\n",
       "    <tr>\n",
       "      <th>25</th>\n",
       "      <td>MISSOURI</td>\n",
       "      <td>286.0</td>\n",
       "    </tr>\n",
       "    <tr>\n",
       "      <th>26</th>\n",
       "      <td>MONTANA</td>\n",
       "      <td>293.0</td>\n",
       "    </tr>\n",
       "    <tr>\n",
       "      <th>27</th>\n",
       "      <td>NEBRASKA</td>\n",
       "      <td>288.0</td>\n",
       "    </tr>\n",
       "    <tr>\n",
       "      <th>28</th>\n",
       "      <td>NEVADA</td>\n",
       "      <td>278.0</td>\n",
       "    </tr>\n",
       "    <tr>\n",
       "      <th>29</th>\n",
       "      <td>NEW_HAMPSHIRE</td>\n",
       "      <td>296.0</td>\n",
       "    </tr>\n",
       "    <tr>\n",
       "      <th>30</th>\n",
       "      <td>NEW_JERSEY</td>\n",
       "      <td>296.0</td>\n",
       "    </tr>\n",
       "    <tr>\n",
       "      <th>31</th>\n",
       "      <td>NEW_MEXICO</td>\n",
       "      <td>274.0</td>\n",
       "    </tr>\n",
       "    <tr>\n",
       "      <th>32</th>\n",
       "      <td>NEW_YORK</td>\n",
       "      <td>283.0</td>\n",
       "    </tr>\n",
       "    <tr>\n",
       "      <th>33</th>\n",
       "      <td>NORTH_CAROLINA</td>\n",
       "      <td>286.0</td>\n",
       "    </tr>\n",
       "    <tr>\n",
       "      <th>34</th>\n",
       "      <td>NORTH_DAKOTA</td>\n",
       "      <td>293.0</td>\n",
       "    </tr>\n",
       "    <tr>\n",
       "      <th>35</th>\n",
       "      <td>OHIO</td>\n",
       "      <td>290.0</td>\n",
       "    </tr>\n",
       "    <tr>\n",
       "      <th>36</th>\n",
       "      <td>OKLAHOMA</td>\n",
       "      <td>279.0</td>\n",
       "    </tr>\n",
       "    <tr>\n",
       "      <th>37</th>\n",
       "      <td>OREGON</td>\n",
       "      <td>285.0</td>\n",
       "    </tr>\n",
       "    <tr>\n",
       "      <th>38</th>\n",
       "      <td>PENNSYLVANIA</td>\n",
       "      <td>290.0</td>\n",
       "    </tr>\n",
       "    <tr>\n",
       "      <th>39</th>\n",
       "      <td>RHODE_ISLAND</td>\n",
       "      <td>284.0</td>\n",
       "    </tr>\n",
       "    <tr>\n",
       "      <th>40</th>\n",
       "      <td>SOUTH_CAROLINA</td>\n",
       "      <td>282.0</td>\n",
       "    </tr>\n",
       "    <tr>\n",
       "      <th>41</th>\n",
       "      <td>SOUTH_DAKOTA</td>\n",
       "      <td>291.0</td>\n",
       "    </tr>\n",
       "    <tr>\n",
       "      <th>42</th>\n",
       "      <td>TENNESSEE</td>\n",
       "      <td>280.0</td>\n",
       "    </tr>\n",
       "    <tr>\n",
       "      <th>43</th>\n",
       "      <td>TEXAS</td>\n",
       "      <td>290.0</td>\n",
       "    </tr>\n",
       "    <tr>\n",
       "      <th>44</th>\n",
       "      <td>UTAH</td>\n",
       "      <td>287.0</td>\n",
       "    </tr>\n",
       "    <tr>\n",
       "      <th>45</th>\n",
       "      <td>VERMONT</td>\n",
       "      <td>295.0</td>\n",
       "    </tr>\n",
       "    <tr>\n",
       "      <th>46</th>\n",
       "      <td>VIRGINIA</td>\n",
       "      <td>290.0</td>\n",
       "    </tr>\n",
       "    <tr>\n",
       "      <th>47</th>\n",
       "      <td>WASHINGTON</td>\n",
       "      <td>290.0</td>\n",
       "    </tr>\n",
       "    <tr>\n",
       "      <th>48</th>\n",
       "      <td>WEST_VIRGINIA</td>\n",
       "      <td>274.0</td>\n",
       "    </tr>\n",
       "    <tr>\n",
       "      <th>49</th>\n",
       "      <td>WISCONSIN</td>\n",
       "      <td>289.0</td>\n",
       "    </tr>\n",
       "    <tr>\n",
       "      <th>50</th>\n",
       "      <td>WYOMING</td>\n",
       "      <td>289.0</td>\n",
       "    </tr>\n",
       "  </tbody>\n",
       "</table>\n",
       "</div>"
      ],
      "text/plain": [
       "                   STATE  AVG_MATH_8_SCORE\n",
       "0                ALABAMA             269.0\n",
       "1                 ALASKA             283.0\n",
       "2                ARIZONA             283.0\n",
       "3               ARKANSAS             279.0\n",
       "4             CALIFORNIA             277.0\n",
       "5               COLORADO             292.0\n",
       "6            CONNECTICUT             289.0\n",
       "7               DELAWARE             284.0\n",
       "8   DISTRICT_OF_COLUMBIA             269.0\n",
       "9                FLORIDA             281.0\n",
       "10               GEORGIA             281.0\n",
       "11                HAWAII             281.0\n",
       "12                 IDAHO             287.0\n",
       "13              ILLINOIS             285.0\n",
       "14               INDIANA             288.0\n",
       "15                  IOWA             286.0\n",
       "16                KANSAS             290.0\n",
       "17              KENTUCKY             282.0\n",
       "18             LOUISIANA             273.0\n",
       "19                 MAINE             289.0\n",
       "20              MARYLAND             288.0\n",
       "21         MASSACHUSETTS             301.0\n",
       "22              MICHIGAN             280.0\n",
       "23             MINNESOTA             295.0\n",
       "24           MISSISSIPPI             274.0\n",
       "25              MISSOURI             286.0\n",
       "26               MONTANA             293.0\n",
       "27              NEBRASKA             288.0\n",
       "28                NEVADA             278.0\n",
       "29         NEW_HAMPSHIRE             296.0\n",
       "30            NEW_JERSEY             296.0\n",
       "31            NEW_MEXICO             274.0\n",
       "32              NEW_YORK             283.0\n",
       "33        NORTH_CAROLINA             286.0\n",
       "34          NORTH_DAKOTA             293.0\n",
       "35                  OHIO             290.0\n",
       "36              OKLAHOMA             279.0\n",
       "37                OREGON             285.0\n",
       "38          PENNSYLVANIA             290.0\n",
       "39          RHODE_ISLAND             284.0\n",
       "40        SOUTH_CAROLINA             282.0\n",
       "41          SOUTH_DAKOTA             291.0\n",
       "42             TENNESSEE             280.0\n",
       "43                 TEXAS             290.0\n",
       "44                  UTAH             287.0\n",
       "45               VERMONT             295.0\n",
       "46              VIRGINIA             290.0\n",
       "47            WASHINGTON             290.0\n",
       "48         WEST_VIRGINIA             274.0\n",
       "49             WISCONSIN             289.0\n",
       "50               WYOMING             289.0"
      ]
     },
     "execution_count": 67,
     "metadata": {},
     "output_type": "execute_result"
    }
   ],
   "source": [
    "df[['STATE','AVG_MATH_8_SCORE']].groupby('STATE').max('AVG_MATH_8_SCORE').reset_index()"
   ]
  },
  {
   "cell_type": "markdown",
   "metadata": {},
   "source": [
    "<h2> Feature Engineering </h2>\n",
    "\n",
    "After exploring the data, you can choose to modify features that you would use to predict the performance of the students on your chosen response variable. \n",
    "\n",
    "You can also create your own features. For example, perhaps you figured that maybe a state's expenditure per student may affect their overall academic performance so you create a expenditure_per_student feature.\n",
    "\n",
    "Use this space to modify or create features."
   ]
  },
  {
   "cell_type": "code",
   "execution_count": 68,
   "metadata": {},
   "outputs": [
    {
     "data": {
      "text/plain": [
       "Index(['PRIMARY_KEY', 'STATE', 'YEAR', 'ENROLL_ALL_EST', 'TOTAL_REVENUE',\n",
       "       'FEDERAL_REVENUE', 'STATE_REVENUE', 'LOCAL_REVENUE',\n",
       "       'TOTAL_EXPENDITURE', 'INSTRUCTION_EXPENDITURE',\n",
       "       'SUPPORT_SERVICES_EXPENDITURE', 'OTHER_EXPENDITURE',\n",
       "       'CAPITAL_OUTLAY_EXPENDITURE', 'ENROLL_PREK', 'ENROLL_KINDER',\n",
       "       'ENROLL_4', 'ENROLL_8', 'ENROLL_12', 'ENROLL_PRIMARY', 'ENROLL_HS',\n",
       "       'ENROLL_ALL', 'AVG_MATH_4_SCORE', 'AVG_MATH_8_SCORE',\n",
       "       'AVG_READING_4_SCORE', 'AVG_READING_8_SCORE'],\n",
       "      dtype='object')"
      ]
     },
     "execution_count": 68,
     "metadata": {},
     "output_type": "execute_result"
    }
   ],
   "source": [
    "df.columns"
   ]
  },
  {
   "cell_type": "code",
   "execution_count": 73,
   "metadata": {},
   "outputs": [
    {
     "data": {
      "text/plain": [
       "102"
      ]
     },
     "execution_count": 73,
     "metadata": {},
     "output_type": "execute_result"
    }
   ],
   "source": [
    "df.TOTAL_EXPENDITURE.isnull().sum()"
   ]
  },
  {
   "cell_type": "code",
   "execution_count": 71,
   "metadata": {},
   "outputs": [
    {
     "data": {
      "text/plain": [
       "102"
      ]
     },
     "execution_count": 71,
     "metadata": {},
     "output_type": "execute_result"
    }
   ],
   "source": [
    "df.TOTAL_REVENUE.isnull().sum()"
   ]
  },
  {
   "cell_type": "code",
   "execution_count": 70,
   "metadata": {},
   "outputs": [
    {
     "data": {
      "text/plain": [
       "102"
      ]
     },
     "execution_count": 70,
     "metadata": {},
     "output_type": "execute_result"
    }
   ],
   "source": [
    "df.ENROLL_ALL_EST.isnull().sum()"
   ]
  },
  {
   "cell_type": "code",
   "execution_count": 74,
   "metadata": {},
   "outputs": [
    {
     "data": {
      "text/plain": [
       "YEAR\n",
       "2017    51\n",
       "2019    51\n",
       "dtype: int64"
      ]
     },
     "execution_count": 74,
     "metadata": {},
     "output_type": "execute_result"
    }
   ],
   "source": [
    "df[df.TOTAL_EXPENDITURE.isnull()][['YEAR','TOTAL_EXPENDITURE']].groupby('YEAR').size()"
   ]
  },
  {
   "cell_type": "code",
   "execution_count": 75,
   "metadata": {},
   "outputs": [
    {
     "data": {
      "text/plain": [
       "YEAR\n",
       "2017    51\n",
       "2019    51\n",
       "dtype: int64"
      ]
     },
     "execution_count": 75,
     "metadata": {},
     "output_type": "execute_result"
    }
   ],
   "source": [
    "df[df.TOTAL_REVENUE.isnull()][['YEAR','TOTAL_REVENUE']].groupby('YEAR').size()"
   ]
  },
  {
   "cell_type": "code",
   "execution_count": 78,
   "metadata": {},
   "outputs": [
    {
     "data": {
      "text/plain": [
       "array([2003, 2005, 2007, 2009, 2011, 2013, 2015])"
      ]
     },
     "execution_count": 78,
     "metadata": {},
     "output_type": "execute_result"
    }
   ],
   "source": [
    "# 2017 and 2019 are both missing total expenditure and total revenue for all states\n",
    "# removing these years\n",
    "\n",
    "df = df[~df.YEAR.isin(df[df.TOTAL_EXPENDITURE.isnull()]['YEAR'].unique())]\n",
    "df.YEAR.unique()"
   ]
  },
  {
   "cell_type": "code",
   "execution_count": 79,
   "metadata": {},
   "outputs": [],
   "source": [
    "# years remaining in dataset are 2003, 2005, 2007, 2009, 2011, 2013, and 2015"
   ]
  },
  {
   "cell_type": "code",
   "execution_count": 100,
   "metadata": {},
   "outputs": [],
   "source": [
    "# b/c each state has different number of population or students.. \n",
    "# i wanna see the revenue and expenditure spent per student\n",
    "# i also wanna measure the pct of expenditure spent on instruction across states\n",
    "\n",
    "df['REVENUE_PER_STUDENT'] = df.TOTAL_REVENUE / df.ENROLL_ALL_EST\n",
    "df['EXPENDITURE_PER_STUDENT'] = df.TOTAL_EXPENDITURE / df.ENROLL_ALL_EST\n",
    "df['INSTRUCTION_EXPENDITURE_PCT'] = df.INSTRUCTION_EXPENDITURE / df.TOTAL_EXPENDITURE\n",
    "df['PROFIT_PER_STUDENT'] = df.REVENUE_PER_STUDENT / df.EXPENDITURE_PER_STUDENT"
   ]
  },
  {
   "cell_type": "markdown",
   "metadata": {},
   "source": [
    "Feature engineering justification: **<BRIEFLY DESCRIBE WHY YOU MADE THE CHANGES THAT YOU DID\\>**"
   ]
  },
  {
   "cell_type": "code",
   "execution_count": 82,
   "metadata": {},
   "outputs": [
    {
     "data": {
      "text/html": [
       "<div>\n",
       "<style scoped>\n",
       "    .dataframe tbody tr th:only-of-type {\n",
       "        vertical-align: middle;\n",
       "    }\n",
       "\n",
       "    .dataframe tbody tr th {\n",
       "        vertical-align: top;\n",
       "    }\n",
       "\n",
       "    .dataframe thead th {\n",
       "        text-align: right;\n",
       "    }\n",
       "</style>\n",
       "<table border=\"1\" class=\"dataframe\">\n",
       "  <thead>\n",
       "    <tr style=\"text-align: right;\">\n",
       "      <th></th>\n",
       "      <th>PRIMARY_KEY</th>\n",
       "      <th>STATE</th>\n",
       "      <th>YEAR</th>\n",
       "      <th>ENROLL_ALL_EST</th>\n",
       "      <th>TOTAL_REVENUE</th>\n",
       "      <th>FEDERAL_REVENUE</th>\n",
       "      <th>STATE_REVENUE</th>\n",
       "      <th>LOCAL_REVENUE</th>\n",
       "      <th>TOTAL_EXPENDITURE</th>\n",
       "      <th>INSTRUCTION_EXPENDITURE</th>\n",
       "      <th>...</th>\n",
       "      <th>ENROLL_PRIMARY</th>\n",
       "      <th>ENROLL_HS</th>\n",
       "      <th>ENROLL_ALL</th>\n",
       "      <th>AVG_MATH_4_SCORE</th>\n",
       "      <th>AVG_MATH_8_SCORE</th>\n",
       "      <th>AVG_READING_4_SCORE</th>\n",
       "      <th>AVG_READING_8_SCORE</th>\n",
       "      <th>REVENUE_PER_STUDENT</th>\n",
       "      <th>EXPENDITURE_PER_STUDENT</th>\n",
       "      <th>INSTRUCTION_EXPENDITURE_PCT</th>\n",
       "    </tr>\n",
       "  </thead>\n",
       "  <tbody>\n",
       "    <tr>\n",
       "      <th>561</th>\n",
       "      <td>2003_ALABAMA</td>\n",
       "      <td>ALABAMA</td>\n",
       "      <td>2003</td>\n",
       "      <td>727900.0</td>\n",
       "      <td>5196054.0</td>\n",
       "      <td>567704.0</td>\n",
       "      <td>2966981.0</td>\n",
       "      <td>1661369.0</td>\n",
       "      <td>5298932.0</td>\n",
       "      <td>2817111.0</td>\n",
       "      <td>...</td>\n",
       "      <td>466920.0</td>\n",
       "      <td>205907.0</td>\n",
       "      <td>731220.0</td>\n",
       "      <td>223.0</td>\n",
       "      <td>262.0</td>\n",
       "      <td>207.0</td>\n",
       "      <td>253.0</td>\n",
       "      <td>7.138417</td>\n",
       "      <td>7.279753</td>\n",
       "      <td>0.531638</td>\n",
       "    </tr>\n",
       "    <tr>\n",
       "      <th>562</th>\n",
       "      <td>2003_ALASKA</td>\n",
       "      <td>ALASKA</td>\n",
       "      <td>2003</td>\n",
       "      <td>133303.0</td>\n",
       "      <td>1425948.0</td>\n",
       "      <td>259423.0</td>\n",
       "      <td>813371.0</td>\n",
       "      <td>353154.0</td>\n",
       "      <td>1610289.0</td>\n",
       "      <td>763525.0</td>\n",
       "      <td>...</td>\n",
       "      <td>82337.0</td>\n",
       "      <td>40238.0</td>\n",
       "      <td>133933.0</td>\n",
       "      <td>233.0</td>\n",
       "      <td>279.0</td>\n",
       "      <td>212.0</td>\n",
       "      <td>256.0</td>\n",
       "      <td>10.697044</td>\n",
       "      <td>12.079916</td>\n",
       "      <td>0.474154</td>\n",
       "    </tr>\n",
       "    <tr>\n",
       "      <th>563</th>\n",
       "      <td>2003_ARIZONA</td>\n",
       "      <td>ARIZONA</td>\n",
       "      <td>2003</td>\n",
       "      <td>875111.0</td>\n",
       "      <td>6529894.0</td>\n",
       "      <td>740579.0</td>\n",
       "      <td>2912629.0</td>\n",
       "      <td>2876686.0</td>\n",
       "      <td>6210287.0</td>\n",
       "      <td>2810907.0</td>\n",
       "      <td>...</td>\n",
       "      <td>613442.0</td>\n",
       "      <td>307272.0</td>\n",
       "      <td>1012068.0</td>\n",
       "      <td>229.0</td>\n",
       "      <td>271.0</td>\n",
       "      <td>209.0</td>\n",
       "      <td>255.0</td>\n",
       "      <td>7.461789</td>\n",
       "      <td>7.096571</td>\n",
       "      <td>0.452621</td>\n",
       "    </tr>\n",
       "    <tr>\n",
       "      <th>564</th>\n",
       "      <td>2003_ARKANSAS</td>\n",
       "      <td>ARKANSAS</td>\n",
       "      <td>2003</td>\n",
       "      <td>450158.0</td>\n",
       "      <td>3241275.0</td>\n",
       "      <td>379947.0</td>\n",
       "      <td>2394336.0</td>\n",
       "      <td>466992.0</td>\n",
       "      <td>3242799.0</td>\n",
       "      <td>1768713.0</td>\n",
       "      <td>...</td>\n",
       "      <td>281834.0</td>\n",
       "      <td>132712.0</td>\n",
       "      <td>454523.0</td>\n",
       "      <td>229.0</td>\n",
       "      <td>266.0</td>\n",
       "      <td>214.0</td>\n",
       "      <td>258.0</td>\n",
       "      <td>7.200305</td>\n",
       "      <td>7.203691</td>\n",
       "      <td>0.545428</td>\n",
       "    </tr>\n",
       "    <tr>\n",
       "      <th>565</th>\n",
       "      <td>2003_CALIFORNIA</td>\n",
       "      <td>CALIFORNIA</td>\n",
       "      <td>2003</td>\n",
       "      <td>6226552.0</td>\n",
       "      <td>59815855.0</td>\n",
       "      <td>5795655.0</td>\n",
       "      <td>33617766.0</td>\n",
       "      <td>20402434.0</td>\n",
       "      <td>59749885.0</td>\n",
       "      <td>29561563.0</td>\n",
       "      <td>...</td>\n",
       "      <td>3929869.0</td>\n",
       "      <td>1854518.0</td>\n",
       "      <td>6413867.0</td>\n",
       "      <td>227.0</td>\n",
       "      <td>267.0</td>\n",
       "      <td>206.0</td>\n",
       "      <td>251.0</td>\n",
       "      <td>9.606578</td>\n",
       "      <td>9.595983</td>\n",
       "      <td>0.494755</td>\n",
       "    </tr>\n",
       "  </tbody>\n",
       "</table>\n",
       "<p>5 rows × 28 columns</p>\n",
       "</div>"
      ],
      "text/plain": [
       "         PRIMARY_KEY       STATE  YEAR  ENROLL_ALL_EST  TOTAL_REVENUE  \\\n",
       "561     2003_ALABAMA     ALABAMA  2003        727900.0      5196054.0   \n",
       "562      2003_ALASKA      ALASKA  2003        133303.0      1425948.0   \n",
       "563     2003_ARIZONA     ARIZONA  2003        875111.0      6529894.0   \n",
       "564    2003_ARKANSAS    ARKANSAS  2003        450158.0      3241275.0   \n",
       "565  2003_CALIFORNIA  CALIFORNIA  2003       6226552.0     59815855.0   \n",
       "\n",
       "     FEDERAL_REVENUE  STATE_REVENUE  LOCAL_REVENUE  TOTAL_EXPENDITURE  \\\n",
       "561         567704.0      2966981.0      1661369.0          5298932.0   \n",
       "562         259423.0       813371.0       353154.0          1610289.0   \n",
       "563         740579.0      2912629.0      2876686.0          6210287.0   \n",
       "564         379947.0      2394336.0       466992.0          3242799.0   \n",
       "565        5795655.0     33617766.0     20402434.0         59749885.0   \n",
       "\n",
       "     INSTRUCTION_EXPENDITURE  ...  ENROLL_PRIMARY  ENROLL_HS  ENROLL_ALL  \\\n",
       "561                2817111.0  ...        466920.0   205907.0    731220.0   \n",
       "562                 763525.0  ...         82337.0    40238.0    133933.0   \n",
       "563                2810907.0  ...        613442.0   307272.0   1012068.0   \n",
       "564                1768713.0  ...        281834.0   132712.0    454523.0   \n",
       "565               29561563.0  ...       3929869.0  1854518.0   6413867.0   \n",
       "\n",
       "     AVG_MATH_4_SCORE  AVG_MATH_8_SCORE  AVG_READING_4_SCORE  \\\n",
       "561             223.0             262.0                207.0   \n",
       "562             233.0             279.0                212.0   \n",
       "563             229.0             271.0                209.0   \n",
       "564             229.0             266.0                214.0   \n",
       "565             227.0             267.0                206.0   \n",
       "\n",
       "     AVG_READING_8_SCORE  REVENUE_PER_STUDENT  EXPENDITURE_PER_STUDENT  \\\n",
       "561                253.0             7.138417                 7.279753   \n",
       "562                256.0            10.697044                12.079916   \n",
       "563                255.0             7.461789                 7.096571   \n",
       "564                258.0             7.200305                 7.203691   \n",
       "565                251.0             9.606578                 9.595983   \n",
       "\n",
       "     INSTRUCTION_EXPENDITURE_PCT  \n",
       "561                     0.531638  \n",
       "562                     0.474154  \n",
       "563                     0.452621  \n",
       "564                     0.545428  \n",
       "565                     0.494755  \n",
       "\n",
       "[5 rows x 28 columns]"
      ]
     },
     "execution_count": 82,
     "metadata": {},
     "output_type": "execute_result"
    }
   ],
   "source": [
    "df.head(n=5)"
   ]
  },
  {
   "cell_type": "code",
   "execution_count": 84,
   "metadata": {},
   "outputs": [
    {
     "data": {
      "text/plain": [
       "12.112201702763048"
      ]
     },
     "execution_count": 84,
     "metadata": {},
     "output_type": "execute_result"
    }
   ],
   "source": [
    "np.mean(df.REVENUE_PER_STUDENT)"
   ]
  },
  {
   "cell_type": "code",
   "execution_count": 85,
   "metadata": {},
   "outputs": [
    {
     "data": {
      "text/plain": [
       "12.135434067695297"
      ]
     },
     "execution_count": 85,
     "metadata": {},
     "output_type": "execute_result"
    }
   ],
   "source": [
    "np.mean(df.EXPENDITURE_PER_STUDENT)"
   ]
  },
  {
   "cell_type": "code",
   "execution_count": 87,
   "metadata": {},
   "outputs": [
    {
     "data": {
      "text/plain": [
       "0.5147038892331369"
      ]
     },
     "execution_count": 87,
     "metadata": {},
     "output_type": "execute_result"
    }
   ],
   "source": [
    "np.mean(df.INSTRUCTION_EXPENDITURE_PCT)"
   ]
  },
  {
   "cell_type": "markdown",
   "metadata": {},
   "source": [
    "<h2>Visualization</h2>\n",
    "\n",
    "Investigate the relationship between your chosen response variable and at least two predictors using visualizations. Write down your observations.\n",
    "\n",
    "**Visualization 1**"
   ]
  },
  {
   "cell_type": "code",
   "execution_count": 91,
   "metadata": {},
   "outputs": [],
   "source": [
    "import seaborn as sns"
   ]
  },
  {
   "cell_type": "code",
   "execution_count": 94,
   "metadata": {},
   "outputs": [
    {
     "data": {
      "text/plain": [
       "array([2003, 2005, 2007, 2009, 2011, 2013, 2015])"
      ]
     },
     "execution_count": 94,
     "metadata": {},
     "output_type": "execute_result"
    }
   ],
   "source": [
    "df.YEAR.unique()"
   ]
  },
  {
   "cell_type": "code",
   "execution_count": 99,
   "metadata": {},
   "outputs": [
    {
     "data": {
      "text/plain": [
       "<AxesSubplot:xlabel='REVENUE_PER_STUDENT', ylabel='AVG_MATH_8_SCORE'>"
      ]
     },
     "execution_count": 99,
     "metadata": {},
     "output_type": "execute_result"
    },
    {
     "data": {
      "image/png": "[encoded data removed]",
      "text/plain": [
       "<Figure size 432x288 with 1 Axes>"
      ]
     },
     "metadata": {
      "needs_background": "light"
     },
     "output_type": "display_data"
    }
   ],
   "source": [
    "sns.scatterplot(data=df, x=\"REVENUE_PER_STUDENT\", y=\"AVG_MATH_8_SCORE\")"
   ]
  },
  {
   "cell_type": "code",
   "execution_count": 105,
   "metadata": {},
   "outputs": [
    {
     "data": {
      "text/plain": [
       "<AxesSubplot:xlabel='EXPENDITURE_PER_STUDENT', ylabel='AVG_MATH_8_SCORE'>"
      ]
     },
     "execution_count": 105,
     "metadata": {},
     "output_type": "execute_result"
    },
    {
     "data": {
      "image/png": "[encoded data removed]",
      "text/plain": [
       "<Figure size 432x288 with 1 Axes>"
      ]
     },
     "metadata": {
      "needs_background": "light"
     },
     "output_type": "display_data"
    }
   ],
   "source": [
    "sns.scatterplot(data = df, x= 'EXPENDITURE_PER_STUDENT', y = 'AVG_MATH_8_SCORE')"
   ]
  },
  {
   "cell_type": "code",
   "execution_count": 107,
   "metadata": {},
   "outputs": [
    {
     "data": {
      "text/html": [
       "<div>\n",
       "<style scoped>\n",
       "    .dataframe tbody tr th:only-of-type {\n",
       "        vertical-align: middle;\n",
       "    }\n",
       "\n",
       "    .dataframe tbody tr th {\n",
       "        vertical-align: top;\n",
       "    }\n",
       "\n",
       "    .dataframe thead th {\n",
       "        text-align: right;\n",
       "    }\n",
       "</style>\n",
       "<table border=\"1\" class=\"dataframe\">\n",
       "  <thead>\n",
       "    <tr style=\"text-align: right;\">\n",
       "      <th></th>\n",
       "      <th>PRIMARY_KEY</th>\n",
       "      <th>STATE</th>\n",
       "      <th>YEAR</th>\n",
       "      <th>ENROLL_ALL_EST</th>\n",
       "      <th>TOTAL_REVENUE</th>\n",
       "      <th>FEDERAL_REVENUE</th>\n",
       "      <th>STATE_REVENUE</th>\n",
       "      <th>LOCAL_REVENUE</th>\n",
       "      <th>TOTAL_EXPENDITURE</th>\n",
       "      <th>INSTRUCTION_EXPENDITURE</th>\n",
       "      <th>...</th>\n",
       "      <th>ENROLL_HS</th>\n",
       "      <th>ENROLL_ALL</th>\n",
       "      <th>AVG_MATH_4_SCORE</th>\n",
       "      <th>AVG_MATH_8_SCORE</th>\n",
       "      <th>AVG_READING_4_SCORE</th>\n",
       "      <th>AVG_READING_8_SCORE</th>\n",
       "      <th>REVENUE_PER_STUDENT</th>\n",
       "      <th>EXPENDITURE_PER_STUDENT</th>\n",
       "      <th>INSTRUCTION_EXPENDITURE_PCT</th>\n",
       "      <th>PROFIT_PER_STUDENT</th>\n",
       "    </tr>\n",
       "  </thead>\n",
       "  <tbody>\n",
       "    <tr>\n",
       "      <th>569</th>\n",
       "      <td>2003_DISTRICT_OF_COLUMBIA</td>\n",
       "      <td>DISTRICT_OF_COLUMBIA</td>\n",
       "      <td>2003</td>\n",
       "      <td>67522.0</td>\n",
       "      <td>1114061.0</td>\n",
       "      <td>152599.0</td>\n",
       "      <td>0.0</td>\n",
       "      <td>961462.0</td>\n",
       "      <td>1105963.0</td>\n",
       "      <td>473414.0</td>\n",
       "      <td>...</td>\n",
       "      <td>16828.0</td>\n",
       "      <td>78057.0</td>\n",
       "      <td>205.0</td>\n",
       "      <td>243.0</td>\n",
       "      <td>188.0</td>\n",
       "      <td>239.0</td>\n",
       "      <td>16.499230</td>\n",
       "      <td>16.379299</td>\n",
       "      <td>0.428056</td>\n",
       "      <td>1.007322</td>\n",
       "    </tr>\n",
       "    <tr>\n",
       "      <th>671</th>\n",
       "      <td>2005_DISTRICT_OF_COLUMBIA</td>\n",
       "      <td>DISTRICT_OF_COLUMBIA</td>\n",
       "      <td>2005</td>\n",
       "      <td>62306.0</td>\n",
       "      <td>1109605.0</td>\n",
       "      <td>167922.0</td>\n",
       "      <td>0.0</td>\n",
       "      <td>941683.0</td>\n",
       "      <td>1085658.0</td>\n",
       "      <td>459063.0</td>\n",
       "      <td>...</td>\n",
       "      <td>18769.0</td>\n",
       "      <td>76876.0</td>\n",
       "      <td>211.0</td>\n",
       "      <td>245.0</td>\n",
       "      <td>191.0</td>\n",
       "      <td>238.0</td>\n",
       "      <td>17.808959</td>\n",
       "      <td>17.424614</td>\n",
       "      <td>0.422843</td>\n",
       "      <td>1.022058</td>\n",
       "    </tr>\n",
       "    <tr>\n",
       "      <th>773</th>\n",
       "      <td>2007_DISTRICT_OF_COLUMBIA</td>\n",
       "      <td>DISTRICT_OF_COLUMBIA</td>\n",
       "      <td>2007</td>\n",
       "      <td>56943.0</td>\n",
       "      <td>1148358.0</td>\n",
       "      <td>134700.0</td>\n",
       "      <td>0.0</td>\n",
       "      <td>1013658.0</td>\n",
       "      <td>1140506.0</td>\n",
       "      <td>491992.0</td>\n",
       "      <td>...</td>\n",
       "      <td>20242.0</td>\n",
       "      <td>78422.0</td>\n",
       "      <td>214.0</td>\n",
       "      <td>248.0</td>\n",
       "      <td>197.0</td>\n",
       "      <td>241.0</td>\n",
       "      <td>20.166798</td>\n",
       "      <td>20.028906</td>\n",
       "      <td>0.431380</td>\n",
       "      <td>1.006885</td>\n",
       "    </tr>\n",
       "    <tr>\n",
       "      <th>875</th>\n",
       "      <td>2009_DISTRICT_OF_COLUMBIA</td>\n",
       "      <td>DISTRICT_OF_COLUMBIA</td>\n",
       "      <td>2009</td>\n",
       "      <td>44331.0</td>\n",
       "      <td>801008.0</td>\n",
       "      <td>75856.0</td>\n",
       "      <td>0.0</td>\n",
       "      <td>725152.0</td>\n",
       "      <td>805362.0</td>\n",
       "      <td>330698.0</td>\n",
       "      <td>...</td>\n",
       "      <td>17597.0</td>\n",
       "      <td>69433.0</td>\n",
       "      <td>219.0</td>\n",
       "      <td>254.0</td>\n",
       "      <td>202.0</td>\n",
       "      <td>242.0</td>\n",
       "      <td>18.068801</td>\n",
       "      <td>18.167016</td>\n",
       "      <td>0.410620</td>\n",
       "      <td>0.994594</td>\n",
       "    </tr>\n",
       "  </tbody>\n",
       "</table>\n",
       "<p>4 rows × 29 columns</p>\n",
       "</div>"
      ],
      "text/plain": [
       "                   PRIMARY_KEY                 STATE  YEAR  ENROLL_ALL_EST  \\\n",
       "569  2003_DISTRICT_OF_COLUMBIA  DISTRICT_OF_COLUMBIA  2003         67522.0   \n",
       "671  2005_DISTRICT_OF_COLUMBIA  DISTRICT_OF_COLUMBIA  2005         62306.0   \n",
       "773  2007_DISTRICT_OF_COLUMBIA  DISTRICT_OF_COLUMBIA  2007         56943.0   \n",
       "875  2009_DISTRICT_OF_COLUMBIA  DISTRICT_OF_COLUMBIA  2009         44331.0   \n",
       "\n",
       "     TOTAL_REVENUE  FEDERAL_REVENUE  STATE_REVENUE  LOCAL_REVENUE  \\\n",
       "569      1114061.0         152599.0            0.0       961462.0   \n",
       "671      1109605.0         167922.0            0.0       941683.0   \n",
       "773      1148358.0         134700.0            0.0      1013658.0   \n",
       "875       801008.0          75856.0            0.0       725152.0   \n",
       "\n",
       "     TOTAL_EXPENDITURE  INSTRUCTION_EXPENDITURE  ...  ENROLL_HS  ENROLL_ALL  \\\n",
       "569          1105963.0                 473414.0  ...    16828.0     78057.0   \n",
       "671          1085658.0                 459063.0  ...    18769.0     76876.0   \n",
       "773          1140506.0                 491992.0  ...    20242.0     78422.0   \n",
       "875           805362.0                 330698.0  ...    17597.0     69433.0   \n",
       "\n",
       "     AVG_MATH_4_SCORE  AVG_MATH_8_SCORE  AVG_READING_4_SCORE  \\\n",
       "569             205.0             243.0                188.0   \n",
       "671             211.0             245.0                191.0   \n",
       "773             214.0             248.0                197.0   \n",
       "875             219.0             254.0                202.0   \n",
       "\n",
       "     AVG_READING_8_SCORE  REVENUE_PER_STUDENT  EXPENDITURE_PER_STUDENT  \\\n",
       "569                239.0            16.499230                16.379299   \n",
       "671                238.0            17.808959                17.424614   \n",
       "773                241.0            20.166798                20.028906   \n",
       "875                242.0            18.068801                18.167016   \n",
       "\n",
       "     INSTRUCTION_EXPENDITURE_PCT  PROFIT_PER_STUDENT  \n",
       "569                     0.428056            1.007322  \n",
       "671                     0.422843            1.022058  \n",
       "773                     0.431380            1.006885  \n",
       "875                     0.410620            0.994594  \n",
       "\n",
       "[4 rows x 29 columns]"
      ]
     },
     "execution_count": 107,
     "metadata": {},
     "output_type": "execute_result"
    }
   ],
   "source": [
    "df[(df.REVENUE_PER_STUDENT > 15) & (df.AVG_MATH_8_SCORE < 260)]"
   ]
  },
  {
   "cell_type": "code",
   "execution_count": 108,
   "metadata": {},
   "outputs": [
    {
     "data": {
      "text/html": [
       "<div>\n",
       "<style scoped>\n",
       "    .dataframe tbody tr th:only-of-type {\n",
       "        vertical-align: middle;\n",
       "    }\n",
       "\n",
       "    .dataframe tbody tr th {\n",
       "        vertical-align: top;\n",
       "    }\n",
       "\n",
       "    .dataframe thead th {\n",
       "        text-align: right;\n",
       "    }\n",
       "</style>\n",
       "<table border=\"1\" class=\"dataframe\">\n",
       "  <thead>\n",
       "    <tr style=\"text-align: right;\">\n",
       "      <th></th>\n",
       "      <th>PRIMARY_KEY</th>\n",
       "      <th>STATE</th>\n",
       "      <th>YEAR</th>\n",
       "      <th>ENROLL_ALL_EST</th>\n",
       "      <th>TOTAL_REVENUE</th>\n",
       "      <th>FEDERAL_REVENUE</th>\n",
       "      <th>STATE_REVENUE</th>\n",
       "      <th>LOCAL_REVENUE</th>\n",
       "      <th>TOTAL_EXPENDITURE</th>\n",
       "      <th>INSTRUCTION_EXPENDITURE</th>\n",
       "      <th>...</th>\n",
       "      <th>ENROLL_HS</th>\n",
       "      <th>ENROLL_ALL</th>\n",
       "      <th>AVG_MATH_4_SCORE</th>\n",
       "      <th>AVG_MATH_8_SCORE</th>\n",
       "      <th>AVG_READING_4_SCORE</th>\n",
       "      <th>AVG_READING_8_SCORE</th>\n",
       "      <th>REVENUE_PER_STUDENT</th>\n",
       "      <th>EXPENDITURE_PER_STUDENT</th>\n",
       "      <th>INSTRUCTION_EXPENDITURE_PCT</th>\n",
       "      <th>PROFIT_PER_STUDENT</th>\n",
       "    </tr>\n",
       "  </thead>\n",
       "  <tbody>\n",
       "    <tr>\n",
       "      <th>977</th>\n",
       "      <td>2011_DISTRICT_OF_COLUMBIA</td>\n",
       "      <td>DISTRICT_OF_COLUMBIA</td>\n",
       "      <td>2011</td>\n",
       "      <td>44199.0</td>\n",
       "      <td>1283071.0</td>\n",
       "      <td>155505.0</td>\n",
       "      <td>0.0</td>\n",
       "      <td>1127566.0</td>\n",
       "      <td>1297175.0</td>\n",
       "      <td>525185.0</td>\n",
       "      <td>...</td>\n",
       "      <td>17261.0</td>\n",
       "      <td>73911.0</td>\n",
       "      <td>222.0</td>\n",
       "      <td>260.0</td>\n",
       "      <td>201.0</td>\n",
       "      <td>242.0</td>\n",
       "      <td>29.029412</td>\n",
       "      <td>29.348515</td>\n",
       "      <td>0.404868</td>\n",
       "      <td>0.989127</td>\n",
       "    </tr>\n",
       "    <tr>\n",
       "      <th>1079</th>\n",
       "      <td>2013_DISTRICT_OF_COLUMBIA</td>\n",
       "      <td>DISTRICT_OF_COLUMBIA</td>\n",
       "      <td>2013</td>\n",
       "      <td>44179.0</td>\n",
       "      <td>1300036.0</td>\n",
       "      <td>129874.0</td>\n",
       "      <td>0.0</td>\n",
       "      <td>1170162.0</td>\n",
       "      <td>1308438.0</td>\n",
       "      <td>559940.0</td>\n",
       "      <td>...</td>\n",
       "      <td>17717.0</td>\n",
       "      <td>78153.0</td>\n",
       "      <td>229.0</td>\n",
       "      <td>265.0</td>\n",
       "      <td>206.0</td>\n",
       "      <td>248.0</td>\n",
       "      <td>29.426560</td>\n",
       "      <td>29.616741</td>\n",
       "      <td>0.427945</td>\n",
       "      <td>0.993579</td>\n",
       "    </tr>\n",
       "    <tr>\n",
       "      <th>1181</th>\n",
       "      <td>2015_DISTRICT_OF_COLUMBIA</td>\n",
       "      <td>DISTRICT_OF_COLUMBIA</td>\n",
       "      <td>2015</td>\n",
       "      <td>46155.0</td>\n",
       "      <td>1382282.0</td>\n",
       "      <td>146366.0</td>\n",
       "      <td>0.0</td>\n",
       "      <td>1235916.0</td>\n",
       "      <td>1360942.0</td>\n",
       "      <td>557345.0</td>\n",
       "      <td>...</td>\n",
       "      <td>18884.0</td>\n",
       "      <td>84024.0</td>\n",
       "      <td>231.0</td>\n",
       "      <td>263.0</td>\n",
       "      <td>212.0</td>\n",
       "      <td>248.0</td>\n",
       "      <td>29.948695</td>\n",
       "      <td>29.486340</td>\n",
       "      <td>0.409529</td>\n",
       "      <td>1.015680</td>\n",
       "    </tr>\n",
       "  </tbody>\n",
       "</table>\n",
       "<p>3 rows × 29 columns</p>\n",
       "</div>"
      ],
      "text/plain": [
       "                    PRIMARY_KEY                 STATE  YEAR  ENROLL_ALL_EST  \\\n",
       "977   2011_DISTRICT_OF_COLUMBIA  DISTRICT_OF_COLUMBIA  2011         44199.0   \n",
       "1079  2013_DISTRICT_OF_COLUMBIA  DISTRICT_OF_COLUMBIA  2013         44179.0   \n",
       "1181  2015_DISTRICT_OF_COLUMBIA  DISTRICT_OF_COLUMBIA  2015         46155.0   \n",
       "\n",
       "      TOTAL_REVENUE  FEDERAL_REVENUE  STATE_REVENUE  LOCAL_REVENUE  \\\n",
       "977       1283071.0         155505.0            0.0      1127566.0   \n",
       "1079      1300036.0         129874.0            0.0      1170162.0   \n",
       "1181      1382282.0         146366.0            0.0      1235916.0   \n",
       "\n",
       "      TOTAL_EXPENDITURE  INSTRUCTION_EXPENDITURE  ...  ENROLL_HS  ENROLL_ALL  \\\n",
       "977           1297175.0                 525185.0  ...    17261.0     73911.0   \n",
       "1079          1308438.0                 559940.0  ...    17717.0     78153.0   \n",
       "1181          1360942.0                 557345.0  ...    18884.0     84024.0   \n",
       "\n",
       "      AVG_MATH_4_SCORE  AVG_MATH_8_SCORE  AVG_READING_4_SCORE  \\\n",
       "977              222.0             260.0                201.0   \n",
       "1079             229.0             265.0                206.0   \n",
       "1181             231.0             263.0                212.0   \n",
       "\n",
       "      AVG_READING_8_SCORE  REVENUE_PER_STUDENT  EXPENDITURE_PER_STUDENT  \\\n",
       "977                 242.0            29.029412                29.348515   \n",
       "1079                248.0            29.426560                29.616741   \n",
       "1181                248.0            29.948695                29.486340   \n",
       "\n",
       "      INSTRUCTION_EXPENDITURE_PCT  PROFIT_PER_STUDENT  \n",
       "977                      0.404868            0.989127  \n",
       "1079                     0.427945            0.993579  \n",
       "1181                     0.409529            1.015680  \n",
       "\n",
       "[3 rows x 29 columns]"
      ]
     },
     "execution_count": 108,
     "metadata": {},
     "output_type": "execute_result"
    }
   ],
   "source": [
    "df[(df.REVENUE_PER_STUDENT > 25) & (df.AVG_MATH_8_SCORE < 270)]"
   ]
  },
  {
   "cell_type": "code",
   "execution_count": 109,
   "metadata": {},
   "outputs": [
    {
     "data": {
      "text/html": [
       "<div>\n",
       "<style scoped>\n",
       "    .dataframe tbody tr th:only-of-type {\n",
       "        vertical-align: middle;\n",
       "    }\n",
       "\n",
       "    .dataframe tbody tr th {\n",
       "        vertical-align: top;\n",
       "    }\n",
       "\n",
       "    .dataframe thead th {\n",
       "        text-align: right;\n",
       "    }\n",
       "</style>\n",
       "<table border=\"1\" class=\"dataframe\">\n",
       "  <thead>\n",
       "    <tr style=\"text-align: right;\">\n",
       "      <th></th>\n",
       "      <th>PRIMARY_KEY</th>\n",
       "      <th>STATE</th>\n",
       "      <th>YEAR</th>\n",
       "      <th>ENROLL_ALL_EST</th>\n",
       "      <th>TOTAL_REVENUE</th>\n",
       "      <th>FEDERAL_REVENUE</th>\n",
       "      <th>STATE_REVENUE</th>\n",
       "      <th>LOCAL_REVENUE</th>\n",
       "      <th>TOTAL_EXPENDITURE</th>\n",
       "      <th>INSTRUCTION_EXPENDITURE</th>\n",
       "      <th>...</th>\n",
       "      <th>ENROLL_HS</th>\n",
       "      <th>ENROLL_ALL</th>\n",
       "      <th>AVG_MATH_4_SCORE</th>\n",
       "      <th>AVG_MATH_8_SCORE</th>\n",
       "      <th>AVG_READING_4_SCORE</th>\n",
       "      <th>AVG_READING_8_SCORE</th>\n",
       "      <th>REVENUE_PER_STUDENT</th>\n",
       "      <th>EXPENDITURE_PER_STUDENT</th>\n",
       "      <th>INSTRUCTION_EXPENDITURE_PCT</th>\n",
       "      <th>PROFIT_PER_STUDENT</th>\n",
       "    </tr>\n",
       "  </thead>\n",
       "  <tbody>\n",
       "    <tr>\n",
       "      <th>569</th>\n",
       "      <td>2003_DISTRICT_OF_COLUMBIA</td>\n",
       "      <td>DISTRICT_OF_COLUMBIA</td>\n",
       "      <td>2003</td>\n",
       "      <td>67522.0</td>\n",
       "      <td>1114061.0</td>\n",
       "      <td>152599.0</td>\n",
       "      <td>0.0</td>\n",
       "      <td>961462.0</td>\n",
       "      <td>1105963.0</td>\n",
       "      <td>473414.0</td>\n",
       "      <td>...</td>\n",
       "      <td>16828.0</td>\n",
       "      <td>78057.0</td>\n",
       "      <td>205.0</td>\n",
       "      <td>243.0</td>\n",
       "      <td>188.0</td>\n",
       "      <td>239.0</td>\n",
       "      <td>16.499230</td>\n",
       "      <td>16.379299</td>\n",
       "      <td>0.428056</td>\n",
       "      <td>1.007322</td>\n",
       "    </tr>\n",
       "    <tr>\n",
       "      <th>671</th>\n",
       "      <td>2005_DISTRICT_OF_COLUMBIA</td>\n",
       "      <td>DISTRICT_OF_COLUMBIA</td>\n",
       "      <td>2005</td>\n",
       "      <td>62306.0</td>\n",
       "      <td>1109605.0</td>\n",
       "      <td>167922.0</td>\n",
       "      <td>0.0</td>\n",
       "      <td>941683.0</td>\n",
       "      <td>1085658.0</td>\n",
       "      <td>459063.0</td>\n",
       "      <td>...</td>\n",
       "      <td>18769.0</td>\n",
       "      <td>76876.0</td>\n",
       "      <td>211.0</td>\n",
       "      <td>245.0</td>\n",
       "      <td>191.0</td>\n",
       "      <td>238.0</td>\n",
       "      <td>17.808959</td>\n",
       "      <td>17.424614</td>\n",
       "      <td>0.422843</td>\n",
       "      <td>1.022058</td>\n",
       "    </tr>\n",
       "    <tr>\n",
       "      <th>773</th>\n",
       "      <td>2007_DISTRICT_OF_COLUMBIA</td>\n",
       "      <td>DISTRICT_OF_COLUMBIA</td>\n",
       "      <td>2007</td>\n",
       "      <td>56943.0</td>\n",
       "      <td>1148358.0</td>\n",
       "      <td>134700.0</td>\n",
       "      <td>0.0</td>\n",
       "      <td>1013658.0</td>\n",
       "      <td>1140506.0</td>\n",
       "      <td>491992.0</td>\n",
       "      <td>...</td>\n",
       "      <td>20242.0</td>\n",
       "      <td>78422.0</td>\n",
       "      <td>214.0</td>\n",
       "      <td>248.0</td>\n",
       "      <td>197.0</td>\n",
       "      <td>241.0</td>\n",
       "      <td>20.166798</td>\n",
       "      <td>20.028906</td>\n",
       "      <td>0.431380</td>\n",
       "      <td>1.006885</td>\n",
       "    </tr>\n",
       "    <tr>\n",
       "      <th>875</th>\n",
       "      <td>2009_DISTRICT_OF_COLUMBIA</td>\n",
       "      <td>DISTRICT_OF_COLUMBIA</td>\n",
       "      <td>2009</td>\n",
       "      <td>44331.0</td>\n",
       "      <td>801008.0</td>\n",
       "      <td>75856.0</td>\n",
       "      <td>0.0</td>\n",
       "      <td>725152.0</td>\n",
       "      <td>805362.0</td>\n",
       "      <td>330698.0</td>\n",
       "      <td>...</td>\n",
       "      <td>17597.0</td>\n",
       "      <td>69433.0</td>\n",
       "      <td>219.0</td>\n",
       "      <td>254.0</td>\n",
       "      <td>202.0</td>\n",
       "      <td>242.0</td>\n",
       "      <td>18.068801</td>\n",
       "      <td>18.167016</td>\n",
       "      <td>0.410620</td>\n",
       "      <td>0.994594</td>\n",
       "    </tr>\n",
       "  </tbody>\n",
       "</table>\n",
       "<p>4 rows × 29 columns</p>\n",
       "</div>"
      ],
      "text/plain": [
       "                   PRIMARY_KEY                 STATE  YEAR  ENROLL_ALL_EST  \\\n",
       "569  2003_DISTRICT_OF_COLUMBIA  DISTRICT_OF_COLUMBIA  2003         67522.0   \n",
       "671  2005_DISTRICT_OF_COLUMBIA  DISTRICT_OF_COLUMBIA  2005         62306.0   \n",
       "773  2007_DISTRICT_OF_COLUMBIA  DISTRICT_OF_COLUMBIA  2007         56943.0   \n",
       "875  2009_DISTRICT_OF_COLUMBIA  DISTRICT_OF_COLUMBIA  2009         44331.0   \n",
       "\n",
       "     TOTAL_REVENUE  FEDERAL_REVENUE  STATE_REVENUE  LOCAL_REVENUE  \\\n",
       "569      1114061.0         152599.0            0.0       961462.0   \n",
       "671      1109605.0         167922.0            0.0       941683.0   \n",
       "773      1148358.0         134700.0            0.0      1013658.0   \n",
       "875       801008.0          75856.0            0.0       725152.0   \n",
       "\n",
       "     TOTAL_EXPENDITURE  INSTRUCTION_EXPENDITURE  ...  ENROLL_HS  ENROLL_ALL  \\\n",
       "569          1105963.0                 473414.0  ...    16828.0     78057.0   \n",
       "671          1085658.0                 459063.0  ...    18769.0     76876.0   \n",
       "773          1140506.0                 491992.0  ...    20242.0     78422.0   \n",
       "875           805362.0                 330698.0  ...    17597.0     69433.0   \n",
       "\n",
       "     AVG_MATH_4_SCORE  AVG_MATH_8_SCORE  AVG_READING_4_SCORE  \\\n",
       "569             205.0             243.0                188.0   \n",
       "671             211.0             245.0                191.0   \n",
       "773             214.0             248.0                197.0   \n",
       "875             219.0             254.0                202.0   \n",
       "\n",
       "     AVG_READING_8_SCORE  REVENUE_PER_STUDENT  EXPENDITURE_PER_STUDENT  \\\n",
       "569                239.0            16.499230                16.379299   \n",
       "671                238.0            17.808959                17.424614   \n",
       "773                241.0            20.166798                20.028906   \n",
       "875                242.0            18.068801                18.167016   \n",
       "\n",
       "     INSTRUCTION_EXPENDITURE_PCT  PROFIT_PER_STUDENT  \n",
       "569                     0.428056            1.007322  \n",
       "671                     0.422843            1.022058  \n",
       "773                     0.431380            1.006885  \n",
       "875                     0.410620            0.994594  \n",
       "\n",
       "[4 rows x 29 columns]"
      ]
     },
     "execution_count": 109,
     "metadata": {},
     "output_type": "execute_result"
    }
   ],
   "source": [
    "df[(df.EXPENDITURE_PER_STUDENT > 15) & (df.AVG_MATH_8_SCORE < 260)]"
   ]
  },
  {
   "cell_type": "code",
   "execution_count": 110,
   "metadata": {},
   "outputs": [
    {
     "data": {
      "text/html": [
       "<div>\n",
       "<style scoped>\n",
       "    .dataframe tbody tr th:only-of-type {\n",
       "        vertical-align: middle;\n",
       "    }\n",
       "\n",
       "    .dataframe tbody tr th {\n",
       "        vertical-align: top;\n",
       "    }\n",
       "\n",
       "    .dataframe thead th {\n",
       "        text-align: right;\n",
       "    }\n",
       "</style>\n",
       "<table border=\"1\" class=\"dataframe\">\n",
       "  <thead>\n",
       "    <tr style=\"text-align: right;\">\n",
       "      <th></th>\n",
       "      <th>PRIMARY_KEY</th>\n",
       "      <th>STATE</th>\n",
       "      <th>YEAR</th>\n",
       "      <th>ENROLL_ALL_EST</th>\n",
       "      <th>TOTAL_REVENUE</th>\n",
       "      <th>FEDERAL_REVENUE</th>\n",
       "      <th>STATE_REVENUE</th>\n",
       "      <th>LOCAL_REVENUE</th>\n",
       "      <th>TOTAL_EXPENDITURE</th>\n",
       "      <th>INSTRUCTION_EXPENDITURE</th>\n",
       "      <th>...</th>\n",
       "      <th>ENROLL_HS</th>\n",
       "      <th>ENROLL_ALL</th>\n",
       "      <th>AVG_MATH_4_SCORE</th>\n",
       "      <th>AVG_MATH_8_SCORE</th>\n",
       "      <th>AVG_READING_4_SCORE</th>\n",
       "      <th>AVG_READING_8_SCORE</th>\n",
       "      <th>REVENUE_PER_STUDENT</th>\n",
       "      <th>EXPENDITURE_PER_STUDENT</th>\n",
       "      <th>INSTRUCTION_EXPENDITURE_PCT</th>\n",
       "      <th>PROFIT_PER_STUDENT</th>\n",
       "    </tr>\n",
       "  </thead>\n",
       "  <tbody>\n",
       "    <tr>\n",
       "      <th>977</th>\n",
       "      <td>2011_DISTRICT_OF_COLUMBIA</td>\n",
       "      <td>DISTRICT_OF_COLUMBIA</td>\n",
       "      <td>2011</td>\n",
       "      <td>44199.0</td>\n",
       "      <td>1283071.0</td>\n",
       "      <td>155505.0</td>\n",
       "      <td>0.0</td>\n",
       "      <td>1127566.0</td>\n",
       "      <td>1297175.0</td>\n",
       "      <td>525185.0</td>\n",
       "      <td>...</td>\n",
       "      <td>17261.0</td>\n",
       "      <td>73911.0</td>\n",
       "      <td>222.0</td>\n",
       "      <td>260.0</td>\n",
       "      <td>201.0</td>\n",
       "      <td>242.0</td>\n",
       "      <td>29.029412</td>\n",
       "      <td>29.348515</td>\n",
       "      <td>0.404868</td>\n",
       "      <td>0.989127</td>\n",
       "    </tr>\n",
       "    <tr>\n",
       "      <th>1079</th>\n",
       "      <td>2013_DISTRICT_OF_COLUMBIA</td>\n",
       "      <td>DISTRICT_OF_COLUMBIA</td>\n",
       "      <td>2013</td>\n",
       "      <td>44179.0</td>\n",
       "      <td>1300036.0</td>\n",
       "      <td>129874.0</td>\n",
       "      <td>0.0</td>\n",
       "      <td>1170162.0</td>\n",
       "      <td>1308438.0</td>\n",
       "      <td>559940.0</td>\n",
       "      <td>...</td>\n",
       "      <td>17717.0</td>\n",
       "      <td>78153.0</td>\n",
       "      <td>229.0</td>\n",
       "      <td>265.0</td>\n",
       "      <td>206.0</td>\n",
       "      <td>248.0</td>\n",
       "      <td>29.426560</td>\n",
       "      <td>29.616741</td>\n",
       "      <td>0.427945</td>\n",
       "      <td>0.993579</td>\n",
       "    </tr>\n",
       "    <tr>\n",
       "      <th>1181</th>\n",
       "      <td>2015_DISTRICT_OF_COLUMBIA</td>\n",
       "      <td>DISTRICT_OF_COLUMBIA</td>\n",
       "      <td>2015</td>\n",
       "      <td>46155.0</td>\n",
       "      <td>1382282.0</td>\n",
       "      <td>146366.0</td>\n",
       "      <td>0.0</td>\n",
       "      <td>1235916.0</td>\n",
       "      <td>1360942.0</td>\n",
       "      <td>557345.0</td>\n",
       "      <td>...</td>\n",
       "      <td>18884.0</td>\n",
       "      <td>84024.0</td>\n",
       "      <td>231.0</td>\n",
       "      <td>263.0</td>\n",
       "      <td>212.0</td>\n",
       "      <td>248.0</td>\n",
       "      <td>29.948695</td>\n",
       "      <td>29.486340</td>\n",
       "      <td>0.409529</td>\n",
       "      <td>1.015680</td>\n",
       "    </tr>\n",
       "  </tbody>\n",
       "</table>\n",
       "<p>3 rows × 29 columns</p>\n",
       "</div>"
      ],
      "text/plain": [
       "                    PRIMARY_KEY                 STATE  YEAR  ENROLL_ALL_EST  \\\n",
       "977   2011_DISTRICT_OF_COLUMBIA  DISTRICT_OF_COLUMBIA  2011         44199.0   \n",
       "1079  2013_DISTRICT_OF_COLUMBIA  DISTRICT_OF_COLUMBIA  2013         44179.0   \n",
       "1181  2015_DISTRICT_OF_COLUMBIA  DISTRICT_OF_COLUMBIA  2015         46155.0   \n",
       "\n",
       "      TOTAL_REVENUE  FEDERAL_REVENUE  STATE_REVENUE  LOCAL_REVENUE  \\\n",
       "977       1283071.0         155505.0            0.0      1127566.0   \n",
       "1079      1300036.0         129874.0            0.0      1170162.0   \n",
       "1181      1382282.0         146366.0            0.0      1235916.0   \n",
       "\n",
       "      TOTAL_EXPENDITURE  INSTRUCTION_EXPENDITURE  ...  ENROLL_HS  ENROLL_ALL  \\\n",
       "977           1297175.0                 525185.0  ...    17261.0     73911.0   \n",
       "1079          1308438.0                 559940.0  ...    17717.0     78153.0   \n",
       "1181          1360942.0                 557345.0  ...    18884.0     84024.0   \n",
       "\n",
       "      AVG_MATH_4_SCORE  AVG_MATH_8_SCORE  AVG_READING_4_SCORE  \\\n",
       "977              222.0             260.0                201.0   \n",
       "1079             229.0             265.0                206.0   \n",
       "1181             231.0             263.0                212.0   \n",
       "\n",
       "      AVG_READING_8_SCORE  REVENUE_PER_STUDENT  EXPENDITURE_PER_STUDENT  \\\n",
       "977                 242.0            29.029412                29.348515   \n",
       "1079                248.0            29.426560                29.616741   \n",
       "1181                248.0            29.948695                29.486340   \n",
       "\n",
       "      INSTRUCTION_EXPENDITURE_PCT  PROFIT_PER_STUDENT  \n",
       "977                      0.404868            0.989127  \n",
       "1079                     0.427945            0.993579  \n",
       "1181                     0.409529            1.015680  \n",
       "\n",
       "[3 rows x 29 columns]"
      ]
     },
     "execution_count": 110,
     "metadata": {},
     "output_type": "execute_result"
    }
   ],
   "source": [
    "df[(df.EXPENDITURE_PER_STUDENT > 25) & (df.AVG_MATH_8_SCORE < 270)]"
   ]
  },
  {
   "cell_type": "markdown",
   "metadata": {},
   "source": [
    "Most of these data points are clustered closely together. The 2 charts show there are 2 clusters of outliers. Looking at the date more closely, these 2 clusters are all from \"District of Columbia\" throughout the years. The state was able to increase revenue per student over the years but the scores didn't change much. Actually, from 2011-2015 the state had the highest revenue per student but the score is still low compared to many other states. The same analysis goes for expenditure"
   ]
  },
  {
   "cell_type": "code",
   "execution_count": 101,
   "metadata": {
    "scrolled": true
   },
   "outputs": [
    {
     "data": {
      "text/plain": [
       "<AxesSubplot:xlabel='PROFIT_PER_STUDENT', ylabel='AVG_MATH_8_SCORE'>"
      ]
     },
     "execution_count": 101,
     "metadata": {},
     "output_type": "execute_result"
    },
    {
     "data": {
      "image/png": "[encoded data removed]",
      "text/plain": [
       "<Figure size 432x288 with 1 Axes>"
      ]
     },
     "metadata": {
      "needs_background": "light"
     },
     "output_type": "display_data"
    }
   ],
   "source": [
    "sns.scatterplot(data=df, x=\"PROFIT_PER_STUDENT\", y=\"AVG_MATH_8_SCORE\")"
   ]
  },
  {
   "cell_type": "code",
   "execution_count": 111,
   "metadata": {},
   "outputs": [
    {
     "data": {
      "text/html": [
       "<div>\n",
       "<style scoped>\n",
       "    .dataframe tbody tr th:only-of-type {\n",
       "        vertical-align: middle;\n",
       "    }\n",
       "\n",
       "    .dataframe tbody tr th {\n",
       "        vertical-align: top;\n",
       "    }\n",
       "\n",
       "    .dataframe thead th {\n",
       "        text-align: right;\n",
       "    }\n",
       "</style>\n",
       "<table border=\"1\" class=\"dataframe\">\n",
       "  <thead>\n",
       "    <tr style=\"text-align: right;\">\n",
       "      <th></th>\n",
       "      <th>PRIMARY_KEY</th>\n",
       "      <th>STATE</th>\n",
       "      <th>YEAR</th>\n",
       "      <th>ENROLL_ALL_EST</th>\n",
       "      <th>TOTAL_REVENUE</th>\n",
       "      <th>FEDERAL_REVENUE</th>\n",
       "      <th>STATE_REVENUE</th>\n",
       "      <th>LOCAL_REVENUE</th>\n",
       "      <th>TOTAL_EXPENDITURE</th>\n",
       "      <th>INSTRUCTION_EXPENDITURE</th>\n",
       "      <th>...</th>\n",
       "      <th>ENROLL_HS</th>\n",
       "      <th>ENROLL_ALL</th>\n",
       "      <th>AVG_MATH_4_SCORE</th>\n",
       "      <th>AVG_MATH_8_SCORE</th>\n",
       "      <th>AVG_READING_4_SCORE</th>\n",
       "      <th>AVG_READING_8_SCORE</th>\n",
       "      <th>REVENUE_PER_STUDENT</th>\n",
       "      <th>EXPENDITURE_PER_STUDENT</th>\n",
       "      <th>INSTRUCTION_EXPENDITURE_PCT</th>\n",
       "      <th>PROFIT_PER_STUDENT</th>\n",
       "    </tr>\n",
       "  </thead>\n",
       "  <tbody>\n",
       "    <tr>\n",
       "      <th>572</th>\n",
       "      <td>2003_HAWAII</td>\n",
       "      <td>HAWAII</td>\n",
       "      <td>2003</td>\n",
       "      <td>183829.0</td>\n",
       "      <td>2078877.0</td>\n",
       "      <td>170377.0</td>\n",
       "      <td>1873318.0</td>\n",
       "      <td>35182.0</td>\n",
       "      <td>1602392.0</td>\n",
       "      <td>888473.0</td>\n",
       "      <td>...</td>\n",
       "      <td>53519.0</td>\n",
       "      <td>183609.0</td>\n",
       "      <td>227.0</td>\n",
       "      <td>266.0</td>\n",
       "      <td>208.0</td>\n",
       "      <td>251.0</td>\n",
       "      <td>11.308754</td>\n",
       "      <td>8.716753</td>\n",
       "      <td>0.554467</td>\n",
       "      <td>1.297359</td>\n",
       "    </tr>\n",
       "    <tr>\n",
       "      <th>674</th>\n",
       "      <td>2005_HAWAII</td>\n",
       "      <td>HAWAII</td>\n",
       "      <td>2005</td>\n",
       "      <td>183185.0</td>\n",
       "      <td>2274166.0</td>\n",
       "      <td>236973.0</td>\n",
       "      <td>1986615.0</td>\n",
       "      <td>50578.0</td>\n",
       "      <td>1765805.0</td>\n",
       "      <td>1007207.0</td>\n",
       "      <td>...</td>\n",
       "      <td>55258.0</td>\n",
       "      <td>182818.0</td>\n",
       "      <td>230.0</td>\n",
       "      <td>266.0</td>\n",
       "      <td>210.0</td>\n",
       "      <td>249.0</td>\n",
       "      <td>12.414586</td>\n",
       "      <td>9.639463</td>\n",
       "      <td>0.570395</td>\n",
       "      <td>1.287892</td>\n",
       "    </tr>\n",
       "    <tr>\n",
       "      <th>776</th>\n",
       "      <td>2007_HAWAII</td>\n",
       "      <td>HAWAII</td>\n",
       "      <td>2007</td>\n",
       "      <td>180728.0</td>\n",
       "      <td>2985593.0</td>\n",
       "      <td>256696.0</td>\n",
       "      <td>2681049.0</td>\n",
       "      <td>47848.0</td>\n",
       "      <td>2199604.0</td>\n",
       "      <td>1177781.0</td>\n",
       "      <td>...</td>\n",
       "      <td>54246.0</td>\n",
       "      <td>179897.0</td>\n",
       "      <td>234.0</td>\n",
       "      <td>269.0</td>\n",
       "      <td>213.0</td>\n",
       "      <td>251.0</td>\n",
       "      <td>16.519814</td>\n",
       "      <td>12.170798</td>\n",
       "      <td>0.535451</td>\n",
       "      <td>1.357332</td>\n",
       "    </tr>\n",
       "    <tr>\n",
       "      <th>878</th>\n",
       "      <td>2009_HAWAII</td>\n",
       "      <td>HAWAII</td>\n",
       "      <td>2009</td>\n",
       "      <td>179478.0</td>\n",
       "      <td>2689758.0</td>\n",
       "      <td>392837.0</td>\n",
       "      <td>2205032.0</td>\n",
       "      <td>91889.0</td>\n",
       "      <td>2318671.0</td>\n",
       "      <td>1402305.0</td>\n",
       "      <td>...</td>\n",
       "      <td>52630.0</td>\n",
       "      <td>180196.0</td>\n",
       "      <td>236.0</td>\n",
       "      <td>274.0</td>\n",
       "      <td>211.0</td>\n",
       "      <td>255.0</td>\n",
       "      <td>14.986561</td>\n",
       "      <td>12.918971</td>\n",
       "      <td>0.604788</td>\n",
       "      <td>1.160043</td>\n",
       "    </tr>\n",
       "    <tr>\n",
       "      <th>881</th>\n",
       "      <td>2009_INDIANA</td>\n",
       "      <td>INDIANA</td>\n",
       "      <td>2009</td>\n",
       "      <td>1028259.0</td>\n",
       "      <td>12999357.0</td>\n",
       "      <td>1403839.0</td>\n",
       "      <td>5804809.0</td>\n",
       "      <td>5790709.0</td>\n",
       "      <td>11218398.0</td>\n",
       "      <td>5548292.0</td>\n",
       "      <td>...</td>\n",
       "      <td>316062.0</td>\n",
       "      <td>1046661.0</td>\n",
       "      <td>243.0</td>\n",
       "      <td>287.0</td>\n",
       "      <td>223.0</td>\n",
       "      <td>266.0</td>\n",
       "      <td>12.642104</td>\n",
       "      <td>10.910090</td>\n",
       "      <td>0.494571</td>\n",
       "      <td>1.158753</td>\n",
       "    </tr>\n",
       "    <tr>\n",
       "      <th>980</th>\n",
       "      <td>2011_HAWAII</td>\n",
       "      <td>HAWAII</td>\n",
       "      <td>2011</td>\n",
       "      <td>179601.0</td>\n",
       "      <td>2499513.0</td>\n",
       "      <td>347363.0</td>\n",
       "      <td>2088870.0</td>\n",
       "      <td>63280.0</td>\n",
       "      <td>2259104.0</td>\n",
       "      <td>1253534.0</td>\n",
       "      <td>...</td>\n",
       "      <td>51598.0</td>\n",
       "      <td>182706.0</td>\n",
       "      <td>239.0</td>\n",
       "      <td>278.0</td>\n",
       "      <td>214.0</td>\n",
       "      <td>257.0</td>\n",
       "      <td>13.917033</td>\n",
       "      <td>12.578460</td>\n",
       "      <td>0.554881</td>\n",
       "      <td>1.106418</td>\n",
       "    </tr>\n",
       "  </tbody>\n",
       "</table>\n",
       "<p>6 rows × 29 columns</p>\n",
       "</div>"
      ],
      "text/plain": [
       "      PRIMARY_KEY    STATE  YEAR  ENROLL_ALL_EST  TOTAL_REVENUE  \\\n",
       "572   2003_HAWAII   HAWAII  2003        183829.0      2078877.0   \n",
       "674   2005_HAWAII   HAWAII  2005        183185.0      2274166.0   \n",
       "776   2007_HAWAII   HAWAII  2007        180728.0      2985593.0   \n",
       "878   2009_HAWAII   HAWAII  2009        179478.0      2689758.0   \n",
       "881  2009_INDIANA  INDIANA  2009       1028259.0     12999357.0   \n",
       "980   2011_HAWAII   HAWAII  2011        179601.0      2499513.0   \n",
       "\n",
       "     FEDERAL_REVENUE  STATE_REVENUE  LOCAL_REVENUE  TOTAL_EXPENDITURE  \\\n",
       "572         170377.0      1873318.0        35182.0          1602392.0   \n",
       "674         236973.0      1986615.0        50578.0          1765805.0   \n",
       "776         256696.0      2681049.0        47848.0          2199604.0   \n",
       "878         392837.0      2205032.0        91889.0          2318671.0   \n",
       "881        1403839.0      5804809.0      5790709.0         11218398.0   \n",
       "980         347363.0      2088870.0        63280.0          2259104.0   \n",
       "\n",
       "     INSTRUCTION_EXPENDITURE  ...  ENROLL_HS  ENROLL_ALL  AVG_MATH_4_SCORE  \\\n",
       "572                 888473.0  ...    53519.0    183609.0             227.0   \n",
       "674                1007207.0  ...    55258.0    182818.0             230.0   \n",
       "776                1177781.0  ...    54246.0    179897.0             234.0   \n",
       "878                1402305.0  ...    52630.0    180196.0             236.0   \n",
       "881                5548292.0  ...   316062.0   1046661.0             243.0   \n",
       "980                1253534.0  ...    51598.0    182706.0             239.0   \n",
       "\n",
       "     AVG_MATH_8_SCORE  AVG_READING_4_SCORE  AVG_READING_8_SCORE  \\\n",
       "572             266.0                208.0                251.0   \n",
       "674             266.0                210.0                249.0   \n",
       "776             269.0                213.0                251.0   \n",
       "878             274.0                211.0                255.0   \n",
       "881             287.0                223.0                266.0   \n",
       "980             278.0                214.0                257.0   \n",
       "\n",
       "     REVENUE_PER_STUDENT  EXPENDITURE_PER_STUDENT  \\\n",
       "572            11.308754                 8.716753   \n",
       "674            12.414586                 9.639463   \n",
       "776            16.519814                12.170798   \n",
       "878            14.986561                12.918971   \n",
       "881            12.642104                10.910090   \n",
       "980            13.917033                12.578460   \n",
       "\n",
       "     INSTRUCTION_EXPENDITURE_PCT  PROFIT_PER_STUDENT  \n",
       "572                     0.554467            1.297359  \n",
       "674                     0.570395            1.287892  \n",
       "776                     0.535451            1.357332  \n",
       "878                     0.604788            1.160043  \n",
       "881                     0.494571            1.158753  \n",
       "980                     0.554881            1.106418  \n",
       "\n",
       "[6 rows x 29 columns]"
      ]
     },
     "execution_count": 111,
     "metadata": {},
     "output_type": "execute_result"
    }
   ],
   "source": [
    "df[df.PROFIT_PER_STUDENT > 1.1]"
   ]
  },
  {
   "cell_type": "markdown",
   "metadata": {},
   "source": [
    "This chart shows the revenue to expenditure ratio per student in the dataset. Most data points range from 0.9 to 1.1. Hawaii interestingly is the most \"profitable\" state with the highest revenue to expenditure ratio, but the average 8th grade math score seems low compared to the rest of the data."
   ]
  },
  {
   "cell_type": "code",
   "execution_count": 112,
   "metadata": {},
   "outputs": [
    {
     "data": {
      "text/plain": [
       "<AxesSubplot:xlabel='INSTRUCTION_EXPENDITURE_PCT', ylabel='AVG_MATH_8_SCORE'>"
      ]
     },
     "execution_count": 112,
     "metadata": {},
     "output_type": "execute_result"
    },
    {
     "data": {
      "image/png": "[encoded data removed]",
      "text/plain": [
       "<Figure size 432x288 with 1 Axes>"
      ]
     },
     "metadata": {
      "needs_background": "light"
     },
     "output_type": "display_data"
    }
   ],
   "source": [
    "sns.scatterplot(data = df, x = 'INSTRUCTION_EXPENDITURE_PCT', y = 'AVG_MATH_8_SCORE')"
   ]
  },
  {
   "cell_type": "code",
   "execution_count": 115,
   "metadata": {},
   "outputs": [
    {
     "data": {
      "text/html": [
       "<div>\n",
       "<style scoped>\n",
       "    .dataframe tbody tr th:only-of-type {\n",
       "        vertical-align: middle;\n",
       "    }\n",
       "\n",
       "    .dataframe tbody tr th {\n",
       "        vertical-align: top;\n",
       "    }\n",
       "\n",
       "    .dataframe thead th {\n",
       "        text-align: right;\n",
       "    }\n",
       "</style>\n",
       "<table border=\"1\" class=\"dataframe\">\n",
       "  <thead>\n",
       "    <tr style=\"text-align: right;\">\n",
       "      <th></th>\n",
       "      <th>INSTRUCTION_EXPENDITURE_PCT</th>\n",
       "      <th>AVG_MATH_8_SCORE</th>\n",
       "    </tr>\n",
       "  </thead>\n",
       "  <tbody>\n",
       "    <tr>\n",
       "      <th>INSTRUCTION_EXPENDITURE_PCT</th>\n",
       "      <td>1.000000</td>\n",
       "      <td>0.228234</td>\n",
       "    </tr>\n",
       "    <tr>\n",
       "      <th>AVG_MATH_8_SCORE</th>\n",
       "      <td>0.228234</td>\n",
       "      <td>1.000000</td>\n",
       "    </tr>\n",
       "  </tbody>\n",
       "</table>\n",
       "</div>"
      ],
      "text/plain": [
       "                             INSTRUCTION_EXPENDITURE_PCT  AVG_MATH_8_SCORE\n",
       "INSTRUCTION_EXPENDITURE_PCT                     1.000000          0.228234\n",
       "AVG_MATH_8_SCORE                                0.228234          1.000000"
      ]
     },
     "execution_count": 115,
     "metadata": {},
     "output_type": "execute_result"
    }
   ],
   "source": [
    "df[['INSTRUCTION_EXPENDITURE_PCT','AVG_MATH_8_SCORE']].corr()"
   ]
  },
  {
   "cell_type": "markdown",
   "metadata": {},
   "source": [
    "This plots shows there seems to be a slight positive correlation between the percentage of expenditure that goes toward instruction vs. the average 8th grade math score (0.22)"
   ]
  },
  {
   "cell_type": "markdown",
   "metadata": {},
   "source": [
    "<h2> Data Creation </h2>\n",
    "\n",
    "_Use this space to create train/test data_"
   ]
  },
  {
   "cell_type": "code",
   "execution_count": 116,
   "metadata": {},
   "outputs": [
    {
     "data": {
      "text/plain": [
       "Index(['PRIMARY_KEY', 'STATE', 'YEAR', 'ENROLL_ALL_EST', 'TOTAL_REVENUE',\n",
       "       'FEDERAL_REVENUE', 'STATE_REVENUE', 'LOCAL_REVENUE',\n",
       "       'TOTAL_EXPENDITURE', 'INSTRUCTION_EXPENDITURE',\n",
       "       'SUPPORT_SERVICES_EXPENDITURE', 'OTHER_EXPENDITURE',\n",
       "       'CAPITAL_OUTLAY_EXPENDITURE', 'ENROLL_PREK', 'ENROLL_KINDER',\n",
       "       'ENROLL_4', 'ENROLL_8', 'ENROLL_12', 'ENROLL_PRIMARY', 'ENROLL_HS',\n",
       "       'ENROLL_ALL', 'AVG_MATH_4_SCORE', 'AVG_MATH_8_SCORE',\n",
       "       'AVG_READING_4_SCORE', 'AVG_READING_8_SCORE', 'REVENUE_PER_STUDENT',\n",
       "       'EXPENDITURE_PER_STUDENT', 'INSTRUCTION_EXPENDITURE_PCT',\n",
       "       'PROFIT_PER_STUDENT'],\n",
       "      dtype='object')"
      ]
     },
     "execution_count": 116,
     "metadata": {},
     "output_type": "execute_result"
    }
   ],
   "source": [
    "df.columns"
   ]
  },
  {
   "cell_type": "code",
   "execution_count": 119,
   "metadata": {},
   "outputs": [],
   "source": [
    "from sklearn.model_selection import train_test_split"
   ]
  },
  {
   "cell_type": "code",
   "execution_count": 120,
   "metadata": {},
   "outputs": [],
   "source": [
    "X = df[['ENROLL_8', 'TOTAL_REVENUE', 'TOTAL_EXPENDITURE', \n",
    "       'REVENUE_PER_STUDENT', 'EXPENDITURE_PER_STUDENT', \n",
    "       'INSTRUCTION_EXPENDITURE_PCT', 'PROFIT_PER_STUDENT']]\n",
    "y = df.AVG_MATH_8_SCORE"
   ]
  },
  {
   "cell_type": "code",
   "execution_count": 121,
   "metadata": {},
   "outputs": [],
   "source": [
    "X_train, X_test, y_train, y_test = train_test_split(X, y, test_size = 0.3, random_state=42)"
   ]
  },
  {
   "cell_type": "markdown",
   "metadata": {},
   "source": [
    "<h2> Prediction </h2>"
   ]
  },
  {
   "cell_type": "markdown",
   "metadata": {},
   "source": [
    "ML Models [Resource](https://medium.com/@vijaya.beeravalli/comparison-of-machine-learning-classification-models-for-credit-card-default-data-c3cf805c9a5a)"
   ]
  },
  {
   "cell_type": "code",
   "execution_count": 122,
   "metadata": {},
   "outputs": [],
   "source": [
    "# import your sklearn class here\n",
    "from sklearn.linear_model import LinearRegression"
   ]
  },
  {
   "cell_type": "code",
   "execution_count": 123,
   "metadata": {},
   "outputs": [],
   "source": [
    "# create your model here\n",
    "model = LinearRegression()"
   ]
  },
  {
   "cell_type": "code",
   "execution_count": 124,
   "metadata": {},
   "outputs": [
    {
     "data": {
      "text/plain": [
       "LinearRegression()"
      ]
     },
     "execution_count": 124,
     "metadata": {},
     "output_type": "execute_result"
    }
   ],
   "source": [
    "model.fit(X_train, y_train)"
   ]
  },
  {
   "cell_type": "code",
   "execution_count": 126,
   "metadata": {},
   "outputs": [
    {
     "data": {
      "text/plain": [
       "280.96918767507003"
      ]
     },
     "execution_count": 126,
     "metadata": {},
     "output_type": "execute_result"
    }
   ],
   "source": [
    "np.mean(df.AVG_MATH_8_SCORE)"
   ]
  },
  {
   "cell_type": "code",
   "execution_count": 125,
   "metadata": {},
   "outputs": [
    {
     "name": "stdout",
     "output_type": "stream",
     "text": [
      "261.14640824486065\n",
      "[-4.75322402e-05  1.98575078e-06 -1.64815670e-06 -1.65043702e+00\n",
      "  1.82370735e+00  6.86760192e+01 -1.79015127e+01]\n"
     ]
    }
   ],
   "source": [
    "print(model.intercept_)\n",
    "print(model.coef_)"
   ]
  },
  {
   "cell_type": "markdown",
   "metadata": {},
   "source": [
    "This set of coefficients indicates that the last 4 variables (revenue per student, expenditure per student, instruction expenditure percentage, and profit per student) have some effect on the average 8th grade math score\n",
    "\n",
    "Revenue per student has a negative impact. The higher the revenue generated from each student, the lower the score. This could make sense.\n",
    "\n",
    "Expenditure per student and instruction expenditure percentage have a positive impact. The more money is spent on a student and the more percentage of expense goes towards instruction, students show a higher score. This also makes sense.\n",
    "\n",
    "The higher the revenue per expense ratio per student, the lower the score. THis also makes sense."
   ]
  },
  {
   "cell_type": "code",
   "execution_count": 134,
   "metadata": {},
   "outputs": [],
   "source": [
    "y_pred = model.predict(X_test)"
   ]
  },
  {
   "cell_type": "markdown",
   "metadata": {},
   "source": [
    "## Evaluation"
   ]
  },
  {
   "cell_type": "markdown",
   "metadata": {},
   "source": [
    "Choose some metrics to evaluate the performance of your model, some of them are mentioned in the tutorial."
   ]
  },
  {
   "cell_type": "code",
   "execution_count": 135,
   "metadata": {},
   "outputs": [
    {
     "data": {
      "text/plain": [
       "-0.0731428701262371"
      ]
     },
     "execution_count": 135,
     "metadata": {},
     "output_type": "execute_result"
    }
   ],
   "source": [
    "r_2 = model.score(X_test, y_test)\n",
    "r_2"
   ]
  },
  {
   "cell_type": "code",
   "execution_count": 138,
   "metadata": {},
   "outputs": [
    {
     "data": {
      "text/plain": [
       "-0.2984826515755254"
      ]
     },
     "execution_count": 138,
     "metadata": {},
     "output_type": "execute_result"
    }
   ],
   "source": [
    "# mean error\n",
    "np.mean(model.predict(X_test)-y_test)"
   ]
  },
  {
   "cell_type": "code",
   "execution_count": 148,
   "metadata": {},
   "outputs": [
    {
     "data": {
      "text/plain": [
       "6.408476997491972"
      ]
     },
     "execution_count": 148,
     "metadata": {},
     "output_type": "execute_result"
    }
   ],
   "source": [
    "# mean absolute error\n",
    "np.mean(np.abs(model.predict(X_test)-y_test))"
   ]
  },
  {
   "cell_type": "code",
   "execution_count": 136,
   "metadata": {},
   "outputs": [
    {
     "data": {
      "text/plain": [
       "8.329416749032555"
      ]
     },
     "execution_count": 136,
     "metadata": {},
     "output_type": "execute_result"
    }
   ],
   "source": [
    "# root mean squared error -- penalizes large errors\n",
    "np.mean((model.predict(X_test)-y_test)**2)**0.5"
   ]
  },
  {
   "cell_type": "code",
   "execution_count": 137,
   "metadata": {},
   "outputs": [
    {
     "data": {
      "text/plain": [
       "8.465229768080883"
      ]
     },
     "execution_count": 137,
     "metadata": {},
     "output_type": "execute_result"
    }
   ],
   "source": [
    "np.std(df.AVG_MATH_8_SCORE)"
   ]
  },
  {
   "cell_type": "markdown",
   "metadata": {},
   "source": [
    "We have copied over the graphs that visualize the model's performance on the training and testing set. \n",
    "\n",
    "Change `col_name` and modify the call to `plt.ylabel()` to isolate how a single predictor affects the model."
   ]
  },
  {
   "cell_type": "code",
   "execution_count": 159,
   "metadata": {},
   "outputs": [
    {
     "data": {
      "text/plain": [
       "Text(0.5, 1.0, 'Model Behavior On Training Set')"
      ]
     },
     "execution_count": 159,
     "metadata": {},
     "output_type": "execute_result"
    },
    {
     "data": {
      "image/png": "[encoded data removed]",
      "text/plain": [
       "<Figure size 864x432 with 1 Axes>"
      ]
     },
     "metadata": {
      "needs_background": "light"
     },
     "output_type": "display_data"
    }
   ],
   "source": [
    "col_name = 'INSTRUCTION_EXPENDITURE_PCT'\n",
    "\n",
    "f = plt.figure(figsize=(12,6))\n",
    "plt.scatter(X_train[col_name], y_train, color = \"red\")\n",
    "plt.scatter(X_train[col_name], model.predict(X_train), color = \"green\")\n",
    "\n",
    "plt.legend(['True Training','Predicted Training'])\n",
    "plt.xlabel(col_name)\n",
    "plt.ylabel('INSTRUCTION_EXPENDITURE_PCT')\n",
    "plt.title(\"Model Behavior On Training Set\")"
   ]
  },
  {
   "cell_type": "code",
   "execution_count": 160,
   "metadata": {},
   "outputs": [
    {
     "data": {
      "text/plain": [
       "Text(0.5, 1.0, 'Model Behavior on Testing Set')"
      ]
     },
     "execution_count": 160,
     "metadata": {},
     "output_type": "execute_result"
    },
    {
     "data": {
      "image/png": "[encoded data removed]",
      "text/plain": [
       "<Figure size 864x432 with 1 Axes>"
      ]
     },
     "metadata": {
      "needs_background": "light"
     },
     "output_type": "display_data"
    }
   ],
   "source": [
    "col_name = 'INSTRUCTION_EXPENDITURE_PCT'\n",
    "\n",
    "f = plt.figure(figsize=(12,6))\n",
    "plt.scatter(X_test[col_name], y_test, color = \"blue\")\n",
    "plt.scatter(X_test[col_name], model.predict(X_test), color = \"black\")\n",
    "\n",
    "plt.legend(['True testing','Predicted testing'])\n",
    "plt.xlabel(col_name)\n",
    "plt.ylabel('INSTRUCTION_EXPENDITURE_PCT')\n",
    "plt.title(\"Model Behavior on Testing Set\")"
   ]
  },
  {
   "cell_type": "markdown",
   "metadata": {},
   "source": [
    "<h2> Summary </h2>"
   ]
  },
  {
   "cell_type": "code",
   "execution_count": 158,
   "metadata": {},
   "outputs": [
    {
     "data": {
      "text/plain": [
       "6.202625316079137"
      ]
     },
     "execution_count": 158,
     "metadata": {},
     "output_type": "execute_result"
    }
   ],
   "source": [
    "# establishing baseline for MAE\n",
    "np.mean(np.abs([np.mean(y_train)] * X_test.shape[0]-y_test))"
   ]
  },
  {
   "cell_type": "markdown",
   "metadata": {},
   "source": [
    "The average of the absolute of residuals from linear regression model (mean absolute error) is calculated to be 6.4, but the standard deviation of the residuals (root mean squared error) is calculated to be 8.32. If I took the average of average 8th grade math score of the training dataset and use that value to predict the score for every data point in the testing set, I'd have a lower MAE than our linear regression model. This means our model isn't great, which is also confirmed by a low R_2 score.\n",
    "\n",
    "Based on the graphs, we do see the predicted data points are clustered together. "
   ]
  }
 ],
 "metadata": {
  "kernelspec": {
   "display_name": "Python 3",
   "language": "python",
   "name": "python3"
  },
  "language_info": {
   "codemirror_mode": {
    "name": "ipython",
    "version": 3
   },
   "file_extension": ".py",
   "mimetype": "text/x-python",
   "name": "python",
   "nbconvert_exporter": "python",
   "pygments_lexer": "ipython3",
   "version": "3.8.5"
  },
  "vscode": {
   "interpreter": {
    "hash": "6cf8df3ff69f85f626faf55c10df6fe2cb9d1236b4dc73844ee4dc01369c2c99"
   }
  }
 },
 "nbformat": 4,
 "nbformat_minor": 4
}
